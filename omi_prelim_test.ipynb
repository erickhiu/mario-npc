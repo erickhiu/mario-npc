{
  "nbformat": 4,
  "nbformat_minor": 0,
  "metadata": {
    "colab": {
      "provenance": [],
      "authorship_tag": "ABX9TyPYyXKuVl1vhLK0Kwnvq3JP",
      "include_colab_link": true
    },
    "kernelspec": {
      "name": "python3",
      "display_name": "Python 3"
    },
    "language_info": {
      "name": "python"
    }
  },
  "cells": [
    {
      "cell_type": "markdown",
      "metadata": {
        "id": "view-in-github",
        "colab_type": "text"
      },
      "source": [
        "<a href=\"https://colab.research.google.com/github/erickhiu/mario-npc/blob/main/omi_prelim_test.ipynb\" target=\"_parent\"><img src=\"https://colab.research.google.com/assets/colab-badge.svg\" alt=\"Open In Colab\"/></a>"
      ]
    },
    {
      "cell_type": "markdown",
      "source": [
        "# Dependencies"
      ],
      "metadata": {
        "id": "goGh5XuE5oKr"
      }
    },
    {
      "cell_type": "code",
      "source": [
        "import pandas as pd\n",
        "import plotly.express as px"
      ],
      "metadata": {
        "id": "QtmhiAPk6EhW"
      },
      "execution_count": 8,
      "outputs": []
    },
    {
      "cell_type": "markdown",
      "source": [
        "# Data Preprocessing"
      ],
      "metadata": {
        "id": "ysv1zw_6G53s"
      }
    },
    {
      "cell_type": "code",
      "source": [
        "from google.colab import drive\n",
        "drive.mount('/content/drive')\n",
        "\n",
        "product_df = pd.read_csv(\"/content/drive/MyDrive/2025 Job Search/OMI Assessment/Product Sales Report.csv\")\n",
        "order_df = pd.read_csv(\"/content/drive/MyDrive/2025 Job Search/OMI Assessment/Sales By Order.csv\")"
      ],
      "metadata": {
        "colab": {
          "base_uri": "https://localhost:8080/",
          "height": 0
        },
        "id": "hO0uWFFxWeSa",
        "outputId": "65d83db5-4afd-4a5a-ea99-bc1c468c05cc"
      },
      "execution_count": 9,
      "outputs": [
        {
          "output_type": "stream",
          "name": "stdout",
          "text": [
            "Drive already mounted at /content/drive; to attempt to forcibly remount, call drive.mount(\"/content/drive\", force_remount=True).\n"
          ]
        }
      ]
    },
    {
      "cell_type": "code",
      "source": [
        "# # Reading directly from uploaded files\n",
        "# product_df = pd.read_csv(\"Product Sales Report.csv\")\n",
        "# order_df = pd.read_csv(\"Sales By Order.csv\")"
      ],
      "metadata": {
        "id": "3lgfdmYH5l_r"
      },
      "execution_count": 10,
      "outputs": []
    },
    {
      "cell_type": "code",
      "source": [
        "product_df['Category'] = product_df['Category'].fillna('Uncategorized')"
      ],
      "metadata": {
        "id": "a_HnVXN9XGsn"
      },
      "execution_count": 11,
      "outputs": []
    },
    {
      "cell_type": "markdown",
      "source": [
        "# Question 1: POS Report Analysis\n"
      ],
      "metadata": {
        "id": "fJjYrQJH5dfr"
      }
    },
    {
      "cell_type": "markdown",
      "source": [
        "## 1A. Dashboard Design"
      ],
      "metadata": {
        "id": "kobdi5Vk5fiB"
      }
    },
    {
      "cell_type": "markdown",
      "source": [
        "### Metric 1: Total Sales (Overall)\n",
        "\n",
        "- Gives management a quick snapshot of overall performance.\n",
        "- If the dataset includes a date or timestamp column (e.g., transaction date), this metric can become more powerful by plotting a line chart of total sales over time. This helps to indentify trends (consistent growth or decline), spotting seasonal patterns, or even correlate with the impact of marketing campaigns.\n"
      ],
      "metadata": {
        "id": "p1deFAUzAr8s"
      }
    },
    {
      "cell_type": "code",
      "source": [
        "total_sales = product_df['Total Sales'].sum()\n",
        "print(f\"The total sales is RM {total_sales}\")"
      ],
      "metadata": {
        "colab": {
          "base_uri": "https://localhost:8080/",
          "height": 0
        },
        "id": "MIw-S0D47NW5",
        "outputId": "74183b33-5ed6-4675-b97e-fb709ee4c29d"
      },
      "execution_count": 12,
      "outputs": [
        {
          "output_type": "stream",
          "name": "stdout",
          "text": [
            "The total sales is RM 230014.38\n"
          ]
        }
      ]
    },
    {
      "cell_type": "markdown",
      "source": [
        "### Metric 2: Top 10 Products by Sales (Standard vs Variant)\n",
        "- This metric highlights that generate the most revenue.\n",
        "- By separting standard vs variant sales using a stacked bar chart, the visualization could reveal upsell potential or certain variant of a product.\n",
        "- This support pricing, bundling, and promotional decisions."
      ],
      "metadata": {
        "id": "lYuCp2aVA14r"
      }
    },
    {
      "cell_type": "code",
      "source": [
        "sales_compare = product_df.groupby('Product')[['Sales', 'Variant Sales']].sum()\n",
        "sales_compare = sales_compare.rename(columns={\n",
        "    'Sales': 'Standard Sales',\n",
        "    'Variant Sales': 'Variant Sales'\n",
        "})\n",
        "sales_compare['Total Sales'] = sales_compare['Standard Sales'] + sales_compare['Variant Sales']\n",
        "sales_compare = sales_compare.sort_values('Total Sales', ascending=False).head(10).reset_index()\n",
        "\n",
        "fig = px.bar(\n",
        "    sales_compare,\n",
        "    y='Product',\n",
        "    x=['Standard Sales', 'Variant Sales'],\n",
        "    orientation='h',\n",
        "    title='Top 10 Products: Standard vs Variant Sales',\n",
        "    labels={'value': 'RM'},\n",
        "    barmode='stack',\n",
        "    color_discrete_sequence=px.colors.qualitative.Set2\n",
        ")\n",
        "\n",
        "fig.update_traces(hovertemplate='RM %{x:.2f} ')\n",
        "fig.update_layout(yaxis=dict(autorange='reversed'))\n",
        "fig.show()"
      ],
      "metadata": {
        "colab": {
          "base_uri": "https://localhost:8080/",
          "height": 542
        },
        "id": "q7-zZLArAb42",
        "outputId": "9a8f14f0-d319-4faf-aef6-624f2b454520"
      },
      "execution_count": 13,
      "outputs": [
        {
          "output_type": "display_data",
          "data": {
            "text/html": [
              "<html>\n",
              "<head><meta charset=\"utf-8\" /></head>\n",
              "<body>\n",
              "    <div>            <script src=\"https://cdnjs.cloudflare.com/ajax/libs/mathjax/2.7.5/MathJax.js?config=TeX-AMS-MML_SVG\"></script><script type=\"text/javascript\">if (window.MathJax && window.MathJax.Hub && window.MathJax.Hub.Config) {window.MathJax.Hub.Config({SVG: {font: \"STIX-Web\"}});}</script>                <script type=\"text/javascript\">window.PlotlyConfig = {MathJaxConfig: 'local'};</script>\n",
              "        <script charset=\"utf-8\" src=\"https://cdn.plot.ly/plotly-2.35.2.min.js\"></script>                <div id=\"1ba9c927-a518-45d7-a173-bb8e100ff39d\" class=\"plotly-graph-div\" style=\"height:525px; width:100%;\"></div>            <script type=\"text/javascript\">                                    window.PLOTLYENV=window.PLOTLYENV || {};                                    if (document.getElementById(\"1ba9c927-a518-45d7-a173-bb8e100ff39d\")) {                    Plotly.newPlot(                        \"1ba9c927-a518-45d7-a173-bb8e100ff39d\",                        [{\"alignmentgroup\":\"True\",\"hovertemplate\":\"RM %{x:.2f} \",\"legendgroup\":\"Standard Sales\",\"marker\":{\"color\":\"rgb(102,194,165)\",\"pattern\":{\"shape\":\"\"}},\"name\":\"Standard Sales\",\"offsetgroup\":\"Standard Sales\",\"orientation\":\"h\",\"showlegend\":true,\"textposition\":\"auto\",\"x\":[10294.2,10103.9,8856.8,5788.4,5702.8,5625.9,4612.5,4465.4,4056.5,4044.8],\"xaxis\":\"x\",\"y\":[\"Sudoku Platter\",\"Signature Wagyu Premium Set Meal\",\"Signature Wagyu Don\",\"Premium Sashimi Platter\",\"Double Black Pork Belly Ramen\",\"Black Truffle Wagyu Ramen\",\"Signature Chirashi Chazuke\",\"Sukiyaki Hotpot\",\"Matcha Latte Z3\",\"Karaage Chicken Don\"],\"yaxis\":\"y\",\"type\":\"bar\"},{\"alignmentgroup\":\"True\",\"hovertemplate\":\"RM %{x:.2f} \",\"legendgroup\":\"Variant Sales\",\"marker\":{\"color\":\"rgb(252,141,98)\",\"pattern\":{\"shape\":\"\"}},\"name\":\"Variant Sales\",\"offsetgroup\":\"Variant Sales\",\"orientation\":\"h\",\"showlegend\":true,\"textposition\":\"auto\",\"x\":[0.0,0.0,0.0,0.0,0.0,0.0,0.0,0.0,0.0,0.0],\"xaxis\":\"x\",\"y\":[\"Sudoku Platter\",\"Signature Wagyu Premium Set Meal\",\"Signature Wagyu Don\",\"Premium Sashimi Platter\",\"Double Black Pork Belly Ramen\",\"Black Truffle Wagyu Ramen\",\"Signature Chirashi Chazuke\",\"Sukiyaki Hotpot\",\"Matcha Latte Z3\",\"Karaage Chicken Don\"],\"yaxis\":\"y\",\"type\":\"bar\"}],                        {\"template\":{\"data\":{\"histogram2dcontour\":[{\"type\":\"histogram2dcontour\",\"colorbar\":{\"outlinewidth\":0,\"ticks\":\"\"},\"colorscale\":[[0.0,\"#0d0887\"],[0.1111111111111111,\"#46039f\"],[0.2222222222222222,\"#7201a8\"],[0.3333333333333333,\"#9c179e\"],[0.4444444444444444,\"#bd3786\"],[0.5555555555555556,\"#d8576b\"],[0.6666666666666666,\"#ed7953\"],[0.7777777777777778,\"#fb9f3a\"],[0.8888888888888888,\"#fdca26\"],[1.0,\"#f0f921\"]]}],\"choropleth\":[{\"type\":\"choropleth\",\"colorbar\":{\"outlinewidth\":0,\"ticks\":\"\"}}],\"histogram2d\":[{\"type\":\"histogram2d\",\"colorbar\":{\"outlinewidth\":0,\"ticks\":\"\"},\"colorscale\":[[0.0,\"#0d0887\"],[0.1111111111111111,\"#46039f\"],[0.2222222222222222,\"#7201a8\"],[0.3333333333333333,\"#9c179e\"],[0.4444444444444444,\"#bd3786\"],[0.5555555555555556,\"#d8576b\"],[0.6666666666666666,\"#ed7953\"],[0.7777777777777778,\"#fb9f3a\"],[0.8888888888888888,\"#fdca26\"],[1.0,\"#f0f921\"]]}],\"heatmap\":[{\"type\":\"heatmap\",\"colorbar\":{\"outlinewidth\":0,\"ticks\":\"\"},\"colorscale\":[[0.0,\"#0d0887\"],[0.1111111111111111,\"#46039f\"],[0.2222222222222222,\"#7201a8\"],[0.3333333333333333,\"#9c179e\"],[0.4444444444444444,\"#bd3786\"],[0.5555555555555556,\"#d8576b\"],[0.6666666666666666,\"#ed7953\"],[0.7777777777777778,\"#fb9f3a\"],[0.8888888888888888,\"#fdca26\"],[1.0,\"#f0f921\"]]}],\"heatmapgl\":[{\"type\":\"heatmapgl\",\"colorbar\":{\"outlinewidth\":0,\"ticks\":\"\"},\"colorscale\":[[0.0,\"#0d0887\"],[0.1111111111111111,\"#46039f\"],[0.2222222222222222,\"#7201a8\"],[0.3333333333333333,\"#9c179e\"],[0.4444444444444444,\"#bd3786\"],[0.5555555555555556,\"#d8576b\"],[0.6666666666666666,\"#ed7953\"],[0.7777777777777778,\"#fb9f3a\"],[0.8888888888888888,\"#fdca26\"],[1.0,\"#f0f921\"]]}],\"contourcarpet\":[{\"type\":\"contourcarpet\",\"colorbar\":{\"outlinewidth\":0,\"ticks\":\"\"}}],\"contour\":[{\"type\":\"contour\",\"colorbar\":{\"outlinewidth\":0,\"ticks\":\"\"},\"colorscale\":[[0.0,\"#0d0887\"],[0.1111111111111111,\"#46039f\"],[0.2222222222222222,\"#7201a8\"],[0.3333333333333333,\"#9c179e\"],[0.4444444444444444,\"#bd3786\"],[0.5555555555555556,\"#d8576b\"],[0.6666666666666666,\"#ed7953\"],[0.7777777777777778,\"#fb9f3a\"],[0.8888888888888888,\"#fdca26\"],[1.0,\"#f0f921\"]]}],\"surface\":[{\"type\":\"surface\",\"colorbar\":{\"outlinewidth\":0,\"ticks\":\"\"},\"colorscale\":[[0.0,\"#0d0887\"],[0.1111111111111111,\"#46039f\"],[0.2222222222222222,\"#7201a8\"],[0.3333333333333333,\"#9c179e\"],[0.4444444444444444,\"#bd3786\"],[0.5555555555555556,\"#d8576b\"],[0.6666666666666666,\"#ed7953\"],[0.7777777777777778,\"#fb9f3a\"],[0.8888888888888888,\"#fdca26\"],[1.0,\"#f0f921\"]]}],\"mesh3d\":[{\"type\":\"mesh3d\",\"colorbar\":{\"outlinewidth\":0,\"ticks\":\"\"}}],\"scatter\":[{\"fillpattern\":{\"fillmode\":\"overlay\",\"size\":10,\"solidity\":0.2},\"type\":\"scatter\"}],\"parcoords\":[{\"type\":\"parcoords\",\"line\":{\"colorbar\":{\"outlinewidth\":0,\"ticks\":\"\"}}}],\"scatterpolargl\":[{\"type\":\"scatterpolargl\",\"marker\":{\"colorbar\":{\"outlinewidth\":0,\"ticks\":\"\"}}}],\"bar\":[{\"error_x\":{\"color\":\"#2a3f5f\"},\"error_y\":{\"color\":\"#2a3f5f\"},\"marker\":{\"line\":{\"color\":\"#E5ECF6\",\"width\":0.5},\"pattern\":{\"fillmode\":\"overlay\",\"size\":10,\"solidity\":0.2}},\"type\":\"bar\"}],\"scattergeo\":[{\"type\":\"scattergeo\",\"marker\":{\"colorbar\":{\"outlinewidth\":0,\"ticks\":\"\"}}}],\"scatterpolar\":[{\"type\":\"scatterpolar\",\"marker\":{\"colorbar\":{\"outlinewidth\":0,\"ticks\":\"\"}}}],\"histogram\":[{\"marker\":{\"pattern\":{\"fillmode\":\"overlay\",\"size\":10,\"solidity\":0.2}},\"type\":\"histogram\"}],\"scattergl\":[{\"type\":\"scattergl\",\"marker\":{\"colorbar\":{\"outlinewidth\":0,\"ticks\":\"\"}}}],\"scatter3d\":[{\"type\":\"scatter3d\",\"line\":{\"colorbar\":{\"outlinewidth\":0,\"ticks\":\"\"}},\"marker\":{\"colorbar\":{\"outlinewidth\":0,\"ticks\":\"\"}}}],\"scattermapbox\":[{\"type\":\"scattermapbox\",\"marker\":{\"colorbar\":{\"outlinewidth\":0,\"ticks\":\"\"}}}],\"scatterternary\":[{\"type\":\"scatterternary\",\"marker\":{\"colorbar\":{\"outlinewidth\":0,\"ticks\":\"\"}}}],\"scattercarpet\":[{\"type\":\"scattercarpet\",\"marker\":{\"colorbar\":{\"outlinewidth\":0,\"ticks\":\"\"}}}],\"carpet\":[{\"aaxis\":{\"endlinecolor\":\"#2a3f5f\",\"gridcolor\":\"white\",\"linecolor\":\"white\",\"minorgridcolor\":\"white\",\"startlinecolor\":\"#2a3f5f\"},\"baxis\":{\"endlinecolor\":\"#2a3f5f\",\"gridcolor\":\"white\",\"linecolor\":\"white\",\"minorgridcolor\":\"white\",\"startlinecolor\":\"#2a3f5f\"},\"type\":\"carpet\"}],\"table\":[{\"cells\":{\"fill\":{\"color\":\"#EBF0F8\"},\"line\":{\"color\":\"white\"}},\"header\":{\"fill\":{\"color\":\"#C8D4E3\"},\"line\":{\"color\":\"white\"}},\"type\":\"table\"}],\"barpolar\":[{\"marker\":{\"line\":{\"color\":\"#E5ECF6\",\"width\":0.5},\"pattern\":{\"fillmode\":\"overlay\",\"size\":10,\"solidity\":0.2}},\"type\":\"barpolar\"}],\"pie\":[{\"automargin\":true,\"type\":\"pie\"}]},\"layout\":{\"autotypenumbers\":\"strict\",\"colorway\":[\"#636efa\",\"#EF553B\",\"#00cc96\",\"#ab63fa\",\"#FFA15A\",\"#19d3f3\",\"#FF6692\",\"#B6E880\",\"#FF97FF\",\"#FECB52\"],\"font\":{\"color\":\"#2a3f5f\"},\"hovermode\":\"closest\",\"hoverlabel\":{\"align\":\"left\"},\"paper_bgcolor\":\"white\",\"plot_bgcolor\":\"#E5ECF6\",\"polar\":{\"bgcolor\":\"#E5ECF6\",\"angularaxis\":{\"gridcolor\":\"white\",\"linecolor\":\"white\",\"ticks\":\"\"},\"radialaxis\":{\"gridcolor\":\"white\",\"linecolor\":\"white\",\"ticks\":\"\"}},\"ternary\":{\"bgcolor\":\"#E5ECF6\",\"aaxis\":{\"gridcolor\":\"white\",\"linecolor\":\"white\",\"ticks\":\"\"},\"baxis\":{\"gridcolor\":\"white\",\"linecolor\":\"white\",\"ticks\":\"\"},\"caxis\":{\"gridcolor\":\"white\",\"linecolor\":\"white\",\"ticks\":\"\"}},\"coloraxis\":{\"colorbar\":{\"outlinewidth\":0,\"ticks\":\"\"}},\"colorscale\":{\"sequential\":[[0.0,\"#0d0887\"],[0.1111111111111111,\"#46039f\"],[0.2222222222222222,\"#7201a8\"],[0.3333333333333333,\"#9c179e\"],[0.4444444444444444,\"#bd3786\"],[0.5555555555555556,\"#d8576b\"],[0.6666666666666666,\"#ed7953\"],[0.7777777777777778,\"#fb9f3a\"],[0.8888888888888888,\"#fdca26\"],[1.0,\"#f0f921\"]],\"sequentialminus\":[[0.0,\"#0d0887\"],[0.1111111111111111,\"#46039f\"],[0.2222222222222222,\"#7201a8\"],[0.3333333333333333,\"#9c179e\"],[0.4444444444444444,\"#bd3786\"],[0.5555555555555556,\"#d8576b\"],[0.6666666666666666,\"#ed7953\"],[0.7777777777777778,\"#fb9f3a\"],[0.8888888888888888,\"#fdca26\"],[1.0,\"#f0f921\"]],\"diverging\":[[0,\"#8e0152\"],[0.1,\"#c51b7d\"],[0.2,\"#de77ae\"],[0.3,\"#f1b6da\"],[0.4,\"#fde0ef\"],[0.5,\"#f7f7f7\"],[0.6,\"#e6f5d0\"],[0.7,\"#b8e186\"],[0.8,\"#7fbc41\"],[0.9,\"#4d9221\"],[1,\"#276419\"]]},\"xaxis\":{\"gridcolor\":\"white\",\"linecolor\":\"white\",\"ticks\":\"\",\"title\":{\"standoff\":15},\"zerolinecolor\":\"white\",\"automargin\":true,\"zerolinewidth\":2},\"yaxis\":{\"gridcolor\":\"white\",\"linecolor\":\"white\",\"ticks\":\"\",\"title\":{\"standoff\":15},\"zerolinecolor\":\"white\",\"automargin\":true,\"zerolinewidth\":2},\"scene\":{\"xaxis\":{\"backgroundcolor\":\"#E5ECF6\",\"gridcolor\":\"white\",\"linecolor\":\"white\",\"showbackground\":true,\"ticks\":\"\",\"zerolinecolor\":\"white\",\"gridwidth\":2},\"yaxis\":{\"backgroundcolor\":\"#E5ECF6\",\"gridcolor\":\"white\",\"linecolor\":\"white\",\"showbackground\":true,\"ticks\":\"\",\"zerolinecolor\":\"white\",\"gridwidth\":2},\"zaxis\":{\"backgroundcolor\":\"#E5ECF6\",\"gridcolor\":\"white\",\"linecolor\":\"white\",\"showbackground\":true,\"ticks\":\"\",\"zerolinecolor\":\"white\",\"gridwidth\":2}},\"shapedefaults\":{\"line\":{\"color\":\"#2a3f5f\"}},\"annotationdefaults\":{\"arrowcolor\":\"#2a3f5f\",\"arrowhead\":0,\"arrowwidth\":1},\"geo\":{\"bgcolor\":\"white\",\"landcolor\":\"#E5ECF6\",\"subunitcolor\":\"white\",\"showland\":true,\"showlakes\":true,\"lakecolor\":\"white\"},\"title\":{\"x\":0.05},\"mapbox\":{\"style\":\"light\"}}},\"xaxis\":{\"anchor\":\"y\",\"domain\":[0.0,1.0],\"title\":{\"text\":\"RM\"}},\"yaxis\":{\"anchor\":\"x\",\"domain\":[0.0,1.0],\"title\":{\"text\":\"Product\"},\"autorange\":\"reversed\"},\"legend\":{\"title\":{\"text\":\"variable\"},\"tracegroupgap\":0},\"title\":{\"text\":\"Top 10 Products: Standard vs Variant Sales\"},\"barmode\":\"stack\"},                        {\"responsive\": true}                    ).then(function(){\n",
              "                            \n",
              "var gd = document.getElementById('1ba9c927-a518-45d7-a173-bb8e100ff39d');\n",
              "var x = new MutationObserver(function (mutations, observer) {{\n",
              "        var display = window.getComputedStyle(gd).display;\n",
              "        if (!display || display === 'none') {{\n",
              "            console.log([gd, 'removed!']);\n",
              "            Plotly.purge(gd);\n",
              "            observer.disconnect();\n",
              "        }}\n",
              "}});\n",
              "\n",
              "// Listen for the removal of the full notebook cells\n",
              "var notebookContainer = gd.closest('#notebook-container');\n",
              "if (notebookContainer) {{\n",
              "    x.observe(notebookContainer, {childList: true});\n",
              "}}\n",
              "\n",
              "// Listen for the clearing of the current output cell\n",
              "var outputEl = gd.closest('.output');\n",
              "if (outputEl) {{\n",
              "    x.observe(outputEl, {childList: true});\n",
              "}}\n",
              "\n",
              "                        })                };                            </script>        </div>\n",
              "</body>\n",
              "</html>"
            ]
          },
          "metadata": {}
        }
      ]
    },
    {
      "cell_type": "markdown",
      "source": [
        "### Metric 3: Top 10 Products by Quantity (Standard vs Variant)\n",
        "- This metric reveals operationally important items (e.g., preparation workload).\n",
        "- This metric also reveals products that sell often but may be underpriced.\n",
        "- Similar to Top 10 Products by Sales, the stacked bar chart also indicates customer preference behavior over the standard or variant version of the product."
      ],
      "metadata": {
        "id": "omQfjrhpBkvv"
      }
    },
    {
      "cell_type": "code",
      "source": [
        "quantity_compare = product_df.groupby('Product')[['Quantity', 'Variant Quantity']].sum()\n",
        "quantity_compare = quantity_compare.rename(columns={\n",
        "    'Quantity': 'Standard Quantity',\n",
        "    'Variant Quantity': 'Variant Quantity'\n",
        "})\n",
        "quantity_compare['Total Quantity'] = (\n",
        "    quantity_compare['Standard Quantity'] + quantity_compare['Variant Quantity']\n",
        ")\n",
        "quantity_compare = quantity_compare.sort_values('Total Quantity', ascending=False).head(10).reset_index()\n",
        "\n",
        "fig = px.bar(\n",
        "    quantity_compare,\n",
        "    y='Product',\n",
        "    x=['Standard Quantity', 'Variant Quantity'],\n",
        "    orientation='h',\n",
        "    title='Top 10 Products: Standard vs Variant Quantity',\n",
        "    labels={'value': 'Units'},\n",
        "    barmode='stack',\n",
        "    color_discrete_sequence=px.colors.qualitative.Set2\n",
        ")\n",
        "\n",
        "fig.update_traces(hovertemplate='%{x:.0f} units')\n",
        "\n",
        "fig.update_layout(yaxis=dict(autorange='reversed'))\n",
        "\n",
        "fig.show()"
      ],
      "metadata": {
        "colab": {
          "base_uri": "https://localhost:8080/",
          "height": 542
        },
        "id": "6P1-R7HpBuKE",
        "outputId": "91f670d7-61c5-4184-e07e-c2f0bf821e8f"
      },
      "execution_count": 14,
      "outputs": [
        {
          "output_type": "display_data",
          "data": {
            "text/html": [
              "<html>\n",
              "<head><meta charset=\"utf-8\" /></head>\n",
              "<body>\n",
              "    <div>            <script src=\"https://cdnjs.cloudflare.com/ajax/libs/mathjax/2.7.5/MathJax.js?config=TeX-AMS-MML_SVG\"></script><script type=\"text/javascript\">if (window.MathJax && window.MathJax.Hub && window.MathJax.Hub.Config) {window.MathJax.Hub.Config({SVG: {font: \"STIX-Web\"}});}</script>                <script type=\"text/javascript\">window.PlotlyConfig = {MathJaxConfig: 'local'};</script>\n",
              "        <script charset=\"utf-8\" src=\"https://cdn.plot.ly/plotly-2.35.2.min.js\"></script>                <div id=\"de176d9b-ac9d-4f0e-9976-6394f819d220\" class=\"plotly-graph-div\" style=\"height:525px; width:100%;\"></div>            <script type=\"text/javascript\">                                    window.PLOTLYENV=window.PLOTLYENV || {};                                    if (document.getElementById(\"de176d9b-ac9d-4f0e-9976-6394f819d220\")) {                    Plotly.newPlot(                        \"de176d9b-ac9d-4f0e-9976-6394f819d220\",                        [{\"alignmentgroup\":\"True\",\"hovertemplate\":\"%{x:.0f} units\",\"legendgroup\":\"Standard Quantity\",\"marker\":{\"color\":\"rgb(102,194,165)\",\"pattern\":{\"shape\":\"\"}},\"name\":\"Standard Quantity\",\"offsetgroup\":\"Standard Quantity\",\"orientation\":\"h\",\"showlegend\":true,\"textposition\":\"auto\",\"x\":[0,0,410,359,0,321,295,0,0,272],\"xaxis\":\"x\",\"y\":[\"Full Cream Milk\",\"Signature Teriyaki\",\"Matcha Latte Z3\",\"Single Scoop\",\"Cup\",\"Signature Wagyu Don\",\"Signature Wagyu Premium Set Meal\",\"Spicy Mayo\",\"Matcha Z2\",\"Iced Strawberry Matcha Latte\"],\"yaxis\":\"y\",\"type\":\"bar\"},{\"alignmentgroup\":\"True\",\"hovertemplate\":\"%{x:.0f} units\",\"legendgroup\":\"Variant Quantity\",\"marker\":{\"color\":\"rgb(252,141,98)\",\"pattern\":{\"shape\":\"\"}},\"name\":\"Variant Quantity\",\"offsetgroup\":\"Variant Quantity\",\"orientation\":\"h\",\"showlegend\":true,\"textposition\":\"auto\",\"x\":[1224,887,0,0,339,0,0,292,287,0],\"xaxis\":\"x\",\"y\":[\"Full Cream Milk\",\"Signature Teriyaki\",\"Matcha Latte Z3\",\"Single Scoop\",\"Cup\",\"Signature Wagyu Don\",\"Signature Wagyu Premium Set Meal\",\"Spicy Mayo\",\"Matcha Z2\",\"Iced Strawberry Matcha Latte\"],\"yaxis\":\"y\",\"type\":\"bar\"}],                        {\"template\":{\"data\":{\"histogram2dcontour\":[{\"type\":\"histogram2dcontour\",\"colorbar\":{\"outlinewidth\":0,\"ticks\":\"\"},\"colorscale\":[[0.0,\"#0d0887\"],[0.1111111111111111,\"#46039f\"],[0.2222222222222222,\"#7201a8\"],[0.3333333333333333,\"#9c179e\"],[0.4444444444444444,\"#bd3786\"],[0.5555555555555556,\"#d8576b\"],[0.6666666666666666,\"#ed7953\"],[0.7777777777777778,\"#fb9f3a\"],[0.8888888888888888,\"#fdca26\"],[1.0,\"#f0f921\"]]}],\"choropleth\":[{\"type\":\"choropleth\",\"colorbar\":{\"outlinewidth\":0,\"ticks\":\"\"}}],\"histogram2d\":[{\"type\":\"histogram2d\",\"colorbar\":{\"outlinewidth\":0,\"ticks\":\"\"},\"colorscale\":[[0.0,\"#0d0887\"],[0.1111111111111111,\"#46039f\"],[0.2222222222222222,\"#7201a8\"],[0.3333333333333333,\"#9c179e\"],[0.4444444444444444,\"#bd3786\"],[0.5555555555555556,\"#d8576b\"],[0.6666666666666666,\"#ed7953\"],[0.7777777777777778,\"#fb9f3a\"],[0.8888888888888888,\"#fdca26\"],[1.0,\"#f0f921\"]]}],\"heatmap\":[{\"type\":\"heatmap\",\"colorbar\":{\"outlinewidth\":0,\"ticks\":\"\"},\"colorscale\":[[0.0,\"#0d0887\"],[0.1111111111111111,\"#46039f\"],[0.2222222222222222,\"#7201a8\"],[0.3333333333333333,\"#9c179e\"],[0.4444444444444444,\"#bd3786\"],[0.5555555555555556,\"#d8576b\"],[0.6666666666666666,\"#ed7953\"],[0.7777777777777778,\"#fb9f3a\"],[0.8888888888888888,\"#fdca26\"],[1.0,\"#f0f921\"]]}],\"heatmapgl\":[{\"type\":\"heatmapgl\",\"colorbar\":{\"outlinewidth\":0,\"ticks\":\"\"},\"colorscale\":[[0.0,\"#0d0887\"],[0.1111111111111111,\"#46039f\"],[0.2222222222222222,\"#7201a8\"],[0.3333333333333333,\"#9c179e\"],[0.4444444444444444,\"#bd3786\"],[0.5555555555555556,\"#d8576b\"],[0.6666666666666666,\"#ed7953\"],[0.7777777777777778,\"#fb9f3a\"],[0.8888888888888888,\"#fdca26\"],[1.0,\"#f0f921\"]]}],\"contourcarpet\":[{\"type\":\"contourcarpet\",\"colorbar\":{\"outlinewidth\":0,\"ticks\":\"\"}}],\"contour\":[{\"type\":\"contour\",\"colorbar\":{\"outlinewidth\":0,\"ticks\":\"\"},\"colorscale\":[[0.0,\"#0d0887\"],[0.1111111111111111,\"#46039f\"],[0.2222222222222222,\"#7201a8\"],[0.3333333333333333,\"#9c179e\"],[0.4444444444444444,\"#bd3786\"],[0.5555555555555556,\"#d8576b\"],[0.6666666666666666,\"#ed7953\"],[0.7777777777777778,\"#fb9f3a\"],[0.8888888888888888,\"#fdca26\"],[1.0,\"#f0f921\"]]}],\"surface\":[{\"type\":\"surface\",\"colorbar\":{\"outlinewidth\":0,\"ticks\":\"\"},\"colorscale\":[[0.0,\"#0d0887\"],[0.1111111111111111,\"#46039f\"],[0.2222222222222222,\"#7201a8\"],[0.3333333333333333,\"#9c179e\"],[0.4444444444444444,\"#bd3786\"],[0.5555555555555556,\"#d8576b\"],[0.6666666666666666,\"#ed7953\"],[0.7777777777777778,\"#fb9f3a\"],[0.8888888888888888,\"#fdca26\"],[1.0,\"#f0f921\"]]}],\"mesh3d\":[{\"type\":\"mesh3d\",\"colorbar\":{\"outlinewidth\":0,\"ticks\":\"\"}}],\"scatter\":[{\"fillpattern\":{\"fillmode\":\"overlay\",\"size\":10,\"solidity\":0.2},\"type\":\"scatter\"}],\"parcoords\":[{\"type\":\"parcoords\",\"line\":{\"colorbar\":{\"outlinewidth\":0,\"ticks\":\"\"}}}],\"scatterpolargl\":[{\"type\":\"scatterpolargl\",\"marker\":{\"colorbar\":{\"outlinewidth\":0,\"ticks\":\"\"}}}],\"bar\":[{\"error_x\":{\"color\":\"#2a3f5f\"},\"error_y\":{\"color\":\"#2a3f5f\"},\"marker\":{\"line\":{\"color\":\"#E5ECF6\",\"width\":0.5},\"pattern\":{\"fillmode\":\"overlay\",\"size\":10,\"solidity\":0.2}},\"type\":\"bar\"}],\"scattergeo\":[{\"type\":\"scattergeo\",\"marker\":{\"colorbar\":{\"outlinewidth\":0,\"ticks\":\"\"}}}],\"scatterpolar\":[{\"type\":\"scatterpolar\",\"marker\":{\"colorbar\":{\"outlinewidth\":0,\"ticks\":\"\"}}}],\"histogram\":[{\"marker\":{\"pattern\":{\"fillmode\":\"overlay\",\"size\":10,\"solidity\":0.2}},\"type\":\"histogram\"}],\"scattergl\":[{\"type\":\"scattergl\",\"marker\":{\"colorbar\":{\"outlinewidth\":0,\"ticks\":\"\"}}}],\"scatter3d\":[{\"type\":\"scatter3d\",\"line\":{\"colorbar\":{\"outlinewidth\":0,\"ticks\":\"\"}},\"marker\":{\"colorbar\":{\"outlinewidth\":0,\"ticks\":\"\"}}}],\"scattermapbox\":[{\"type\":\"scattermapbox\",\"marker\":{\"colorbar\":{\"outlinewidth\":0,\"ticks\":\"\"}}}],\"scatterternary\":[{\"type\":\"scatterternary\",\"marker\":{\"colorbar\":{\"outlinewidth\":0,\"ticks\":\"\"}}}],\"scattercarpet\":[{\"type\":\"scattercarpet\",\"marker\":{\"colorbar\":{\"outlinewidth\":0,\"ticks\":\"\"}}}],\"carpet\":[{\"aaxis\":{\"endlinecolor\":\"#2a3f5f\",\"gridcolor\":\"white\",\"linecolor\":\"white\",\"minorgridcolor\":\"white\",\"startlinecolor\":\"#2a3f5f\"},\"baxis\":{\"endlinecolor\":\"#2a3f5f\",\"gridcolor\":\"white\",\"linecolor\":\"white\",\"minorgridcolor\":\"white\",\"startlinecolor\":\"#2a3f5f\"},\"type\":\"carpet\"}],\"table\":[{\"cells\":{\"fill\":{\"color\":\"#EBF0F8\"},\"line\":{\"color\":\"white\"}},\"header\":{\"fill\":{\"color\":\"#C8D4E3\"},\"line\":{\"color\":\"white\"}},\"type\":\"table\"}],\"barpolar\":[{\"marker\":{\"line\":{\"color\":\"#E5ECF6\",\"width\":0.5},\"pattern\":{\"fillmode\":\"overlay\",\"size\":10,\"solidity\":0.2}},\"type\":\"barpolar\"}],\"pie\":[{\"automargin\":true,\"type\":\"pie\"}]},\"layout\":{\"autotypenumbers\":\"strict\",\"colorway\":[\"#636efa\",\"#EF553B\",\"#00cc96\",\"#ab63fa\",\"#FFA15A\",\"#19d3f3\",\"#FF6692\",\"#B6E880\",\"#FF97FF\",\"#FECB52\"],\"font\":{\"color\":\"#2a3f5f\"},\"hovermode\":\"closest\",\"hoverlabel\":{\"align\":\"left\"},\"paper_bgcolor\":\"white\",\"plot_bgcolor\":\"#E5ECF6\",\"polar\":{\"bgcolor\":\"#E5ECF6\",\"angularaxis\":{\"gridcolor\":\"white\",\"linecolor\":\"white\",\"ticks\":\"\"},\"radialaxis\":{\"gridcolor\":\"white\",\"linecolor\":\"white\",\"ticks\":\"\"}},\"ternary\":{\"bgcolor\":\"#E5ECF6\",\"aaxis\":{\"gridcolor\":\"white\",\"linecolor\":\"white\",\"ticks\":\"\"},\"baxis\":{\"gridcolor\":\"white\",\"linecolor\":\"white\",\"ticks\":\"\"},\"caxis\":{\"gridcolor\":\"white\",\"linecolor\":\"white\",\"ticks\":\"\"}},\"coloraxis\":{\"colorbar\":{\"outlinewidth\":0,\"ticks\":\"\"}},\"colorscale\":{\"sequential\":[[0.0,\"#0d0887\"],[0.1111111111111111,\"#46039f\"],[0.2222222222222222,\"#7201a8\"],[0.3333333333333333,\"#9c179e\"],[0.4444444444444444,\"#bd3786\"],[0.5555555555555556,\"#d8576b\"],[0.6666666666666666,\"#ed7953\"],[0.7777777777777778,\"#fb9f3a\"],[0.8888888888888888,\"#fdca26\"],[1.0,\"#f0f921\"]],\"sequentialminus\":[[0.0,\"#0d0887\"],[0.1111111111111111,\"#46039f\"],[0.2222222222222222,\"#7201a8\"],[0.3333333333333333,\"#9c179e\"],[0.4444444444444444,\"#bd3786\"],[0.5555555555555556,\"#d8576b\"],[0.6666666666666666,\"#ed7953\"],[0.7777777777777778,\"#fb9f3a\"],[0.8888888888888888,\"#fdca26\"],[1.0,\"#f0f921\"]],\"diverging\":[[0,\"#8e0152\"],[0.1,\"#c51b7d\"],[0.2,\"#de77ae\"],[0.3,\"#f1b6da\"],[0.4,\"#fde0ef\"],[0.5,\"#f7f7f7\"],[0.6,\"#e6f5d0\"],[0.7,\"#b8e186\"],[0.8,\"#7fbc41\"],[0.9,\"#4d9221\"],[1,\"#276419\"]]},\"xaxis\":{\"gridcolor\":\"white\",\"linecolor\":\"white\",\"ticks\":\"\",\"title\":{\"standoff\":15},\"zerolinecolor\":\"white\",\"automargin\":true,\"zerolinewidth\":2},\"yaxis\":{\"gridcolor\":\"white\",\"linecolor\":\"white\",\"ticks\":\"\",\"title\":{\"standoff\":15},\"zerolinecolor\":\"white\",\"automargin\":true,\"zerolinewidth\":2},\"scene\":{\"xaxis\":{\"backgroundcolor\":\"#E5ECF6\",\"gridcolor\":\"white\",\"linecolor\":\"white\",\"showbackground\":true,\"ticks\":\"\",\"zerolinecolor\":\"white\",\"gridwidth\":2},\"yaxis\":{\"backgroundcolor\":\"#E5ECF6\",\"gridcolor\":\"white\",\"linecolor\":\"white\",\"showbackground\":true,\"ticks\":\"\",\"zerolinecolor\":\"white\",\"gridwidth\":2},\"zaxis\":{\"backgroundcolor\":\"#E5ECF6\",\"gridcolor\":\"white\",\"linecolor\":\"white\",\"showbackground\":true,\"ticks\":\"\",\"zerolinecolor\":\"white\",\"gridwidth\":2}},\"shapedefaults\":{\"line\":{\"color\":\"#2a3f5f\"}},\"annotationdefaults\":{\"arrowcolor\":\"#2a3f5f\",\"arrowhead\":0,\"arrowwidth\":1},\"geo\":{\"bgcolor\":\"white\",\"landcolor\":\"#E5ECF6\",\"subunitcolor\":\"white\",\"showland\":true,\"showlakes\":true,\"lakecolor\":\"white\"},\"title\":{\"x\":0.05},\"mapbox\":{\"style\":\"light\"}}},\"xaxis\":{\"anchor\":\"y\",\"domain\":[0.0,1.0],\"title\":{\"text\":\"Units\"}},\"yaxis\":{\"anchor\":\"x\",\"domain\":[0.0,1.0],\"title\":{\"text\":\"Product\"},\"autorange\":\"reversed\"},\"legend\":{\"title\":{\"text\":\"variable\"},\"tracegroupgap\":0},\"title\":{\"text\":\"Top 10 Products: Standard vs Variant Quantity\"},\"barmode\":\"stack\"},                        {\"responsive\": true}                    ).then(function(){\n",
              "                            \n",
              "var gd = document.getElementById('de176d9b-ac9d-4f0e-9976-6394f819d220');\n",
              "var x = new MutationObserver(function (mutations, observer) {{\n",
              "        var display = window.getComputedStyle(gd).display;\n",
              "        if (!display || display === 'none') {{\n",
              "            console.log([gd, 'removed!']);\n",
              "            Plotly.purge(gd);\n",
              "            observer.disconnect();\n",
              "        }}\n",
              "}});\n",
              "\n",
              "// Listen for the removal of the full notebook cells\n",
              "var notebookContainer = gd.closest('#notebook-container');\n",
              "if (notebookContainer) {{\n",
              "    x.observe(notebookContainer, {childList: true});\n",
              "}}\n",
              "\n",
              "// Listen for the clearing of the current output cell\n",
              "var outputEl = gd.closest('.output');\n",
              "if (outputEl) {{\n",
              "    x.observe(outputEl, {childList: true});\n",
              "}}\n",
              "\n",
              "                        })                };                            </script>        </div>\n",
              "</body>\n",
              "</html>"
            ]
          },
          "metadata": {}
        }
      ]
    },
    {
      "cell_type": "markdown",
      "source": [
        "### Metric 4: Sales by Category\n",
        "- This metric helps management understand the contribution of each product category to overall sales.\n",
        "- This will be useful for menu startegy decisions. For example, if a certain category contribute less than expected, they may need redesignining or repricing.\n",
        "- A pie chart is used to visualize this metric because it communicates category share clearly at a glance.\n",
        "- To improve readability and focus, small categories were grouped under a single \"Others\" segment in the pie chart."
      ],
      "metadata": {
        "id": "eqgFU0GOCofO"
      }
    },
    {
      "cell_type": "code",
      "source": [
        "cat_sales = product_df.groupby('Category')['Total Sales'].sum().reset_index()\n",
        "\n",
        "cat_sales = cat_sales.sort_values('Total Sales', ascending=False)\n",
        "cat_sales['Percent'] = cat_sales['Total Sales'] / cat_sales['Total Sales'].sum()\n",
        "\n",
        "threshold = 0.015  # 1.5%, customize as needed\n",
        "big_cats = cat_sales[cat_sales['Percent'] >= threshold].copy()\n",
        "small_cats = cat_sales[cat_sales['Percent'] < threshold].copy()\n",
        "\n",
        "others_row = pd.DataFrame({\n",
        "    'Category': ['Others'],\n",
        "    'Total Sales': [small_cats['Total Sales'].sum()],\n",
        "    'Percent': [small_cats['Percent'].sum()]\n",
        "})\n",
        "\n",
        "cat_sales_clean = pd.concat([big_cats, others_row], ignore_index=True)\n",
        "\n",
        "fig = px.pie(\n",
        "    cat_sales_clean,\n",
        "    names='Category',\n",
        "    values='Total Sales',\n",
        "    title='Sales Distribution by Category (Grouped Small Categories)',\n",
        "    color_discrete_sequence=px.colors.qualitative.Set3\n",
        ")\n",
        "\n",
        "fig.update_traces(\n",
        "    textinfo='label+percent',\n",
        "    hovertemplate='Category: %{label}<br>Sales: RM %{value:,.2f}<br>Percent: %{percent}'\n",
        ")\n",
        "\n",
        "fig.show()"
      ],
      "metadata": {
        "colab": {
          "base_uri": "https://localhost:8080/",
          "height": 542
        },
        "id": "m4l1UPSECrjg",
        "outputId": "14e70ef5-9fd6-47f6-8a1f-25622ef3bfb1"
      },
      "execution_count": 15,
      "outputs": [
        {
          "output_type": "display_data",
          "data": {
            "text/html": [
              "<html>\n",
              "<head><meta charset=\"utf-8\" /></head>\n",
              "<body>\n",
              "    <div>            <script src=\"https://cdnjs.cloudflare.com/ajax/libs/mathjax/2.7.5/MathJax.js?config=TeX-AMS-MML_SVG\"></script><script type=\"text/javascript\">if (window.MathJax && window.MathJax.Hub && window.MathJax.Hub.Config) {window.MathJax.Hub.Config({SVG: {font: \"STIX-Web\"}});}</script>                <script type=\"text/javascript\">window.PlotlyConfig = {MathJaxConfig: 'local'};</script>\n",
              "        <script charset=\"utf-8\" src=\"https://cdn.plot.ly/plotly-2.35.2.min.js\"></script>                <div id=\"606a97ed-15f7-4f7b-9fb2-fc99fb5df272\" class=\"plotly-graph-div\" style=\"height:525px; width:100%;\"></div>            <script type=\"text/javascript\">                                    window.PLOTLYENV=window.PLOTLYENV || {};                                    if (document.getElementById(\"606a97ed-15f7-4f7b-9fb2-fc99fb5df272\")) {                    Plotly.newPlot(                        \"606a97ed-15f7-4f7b-9fb2-fc99fb5df272\",                        [{\"domain\":{\"x\":[0.0,1.0],\"y\":[0.0,1.0]},\"hovertemplate\":\"Category: %{label}\\u003cbr\\u003eSales: RM %{value:,.2f}\\u003cbr\\u003ePercent: %{percent}\",\"labels\":[\"OMI Don\",\"Sushi Platter\",\"Ramen\",\"Premium Set Meal\",\"Matcha\",\"Sashimi Chazuke\",\"Wagyu Don\",\"Dessert\",\"Kushiyaki\",\"Japanese Hotpot\",\"Fried Appetizer\",\"Sashimi & Tataki\",\"Uncategorized\",\"Other Bread\",\"Sushi Taco\",\"Gelato\",\"Others\"],\"legendgroup\":\"\",\"name\":\"\",\"showlegend\":true,\"values\":[20721.5,19888.0,18510.0,17768.3,16951.3,16236.9,15639.699999999999,14944.7,11151.5,10528.4,9287.6,7849.9,7771.58,5560.9,4806.3,3534.5,28863.3],\"type\":\"pie\",\"textinfo\":\"label+percent\"}],                        {\"template\":{\"data\":{\"histogram2dcontour\":[{\"type\":\"histogram2dcontour\",\"colorbar\":{\"outlinewidth\":0,\"ticks\":\"\"},\"colorscale\":[[0.0,\"#0d0887\"],[0.1111111111111111,\"#46039f\"],[0.2222222222222222,\"#7201a8\"],[0.3333333333333333,\"#9c179e\"],[0.4444444444444444,\"#bd3786\"],[0.5555555555555556,\"#d8576b\"],[0.6666666666666666,\"#ed7953\"],[0.7777777777777778,\"#fb9f3a\"],[0.8888888888888888,\"#fdca26\"],[1.0,\"#f0f921\"]]}],\"choropleth\":[{\"type\":\"choropleth\",\"colorbar\":{\"outlinewidth\":0,\"ticks\":\"\"}}],\"histogram2d\":[{\"type\":\"histogram2d\",\"colorbar\":{\"outlinewidth\":0,\"ticks\":\"\"},\"colorscale\":[[0.0,\"#0d0887\"],[0.1111111111111111,\"#46039f\"],[0.2222222222222222,\"#7201a8\"],[0.3333333333333333,\"#9c179e\"],[0.4444444444444444,\"#bd3786\"],[0.5555555555555556,\"#d8576b\"],[0.6666666666666666,\"#ed7953\"],[0.7777777777777778,\"#fb9f3a\"],[0.8888888888888888,\"#fdca26\"],[1.0,\"#f0f921\"]]}],\"heatmap\":[{\"type\":\"heatmap\",\"colorbar\":{\"outlinewidth\":0,\"ticks\":\"\"},\"colorscale\":[[0.0,\"#0d0887\"],[0.1111111111111111,\"#46039f\"],[0.2222222222222222,\"#7201a8\"],[0.3333333333333333,\"#9c179e\"],[0.4444444444444444,\"#bd3786\"],[0.5555555555555556,\"#d8576b\"],[0.6666666666666666,\"#ed7953\"],[0.7777777777777778,\"#fb9f3a\"],[0.8888888888888888,\"#fdca26\"],[1.0,\"#f0f921\"]]}],\"heatmapgl\":[{\"type\":\"heatmapgl\",\"colorbar\":{\"outlinewidth\":0,\"ticks\":\"\"},\"colorscale\":[[0.0,\"#0d0887\"],[0.1111111111111111,\"#46039f\"],[0.2222222222222222,\"#7201a8\"],[0.3333333333333333,\"#9c179e\"],[0.4444444444444444,\"#bd3786\"],[0.5555555555555556,\"#d8576b\"],[0.6666666666666666,\"#ed7953\"],[0.7777777777777778,\"#fb9f3a\"],[0.8888888888888888,\"#fdca26\"],[1.0,\"#f0f921\"]]}],\"contourcarpet\":[{\"type\":\"contourcarpet\",\"colorbar\":{\"outlinewidth\":0,\"ticks\":\"\"}}],\"contour\":[{\"type\":\"contour\",\"colorbar\":{\"outlinewidth\":0,\"ticks\":\"\"},\"colorscale\":[[0.0,\"#0d0887\"],[0.1111111111111111,\"#46039f\"],[0.2222222222222222,\"#7201a8\"],[0.3333333333333333,\"#9c179e\"],[0.4444444444444444,\"#bd3786\"],[0.5555555555555556,\"#d8576b\"],[0.6666666666666666,\"#ed7953\"],[0.7777777777777778,\"#fb9f3a\"],[0.8888888888888888,\"#fdca26\"],[1.0,\"#f0f921\"]]}],\"surface\":[{\"type\":\"surface\",\"colorbar\":{\"outlinewidth\":0,\"ticks\":\"\"},\"colorscale\":[[0.0,\"#0d0887\"],[0.1111111111111111,\"#46039f\"],[0.2222222222222222,\"#7201a8\"],[0.3333333333333333,\"#9c179e\"],[0.4444444444444444,\"#bd3786\"],[0.5555555555555556,\"#d8576b\"],[0.6666666666666666,\"#ed7953\"],[0.7777777777777778,\"#fb9f3a\"],[0.8888888888888888,\"#fdca26\"],[1.0,\"#f0f921\"]]}],\"mesh3d\":[{\"type\":\"mesh3d\",\"colorbar\":{\"outlinewidth\":0,\"ticks\":\"\"}}],\"scatter\":[{\"fillpattern\":{\"fillmode\":\"overlay\",\"size\":10,\"solidity\":0.2},\"type\":\"scatter\"}],\"parcoords\":[{\"type\":\"parcoords\",\"line\":{\"colorbar\":{\"outlinewidth\":0,\"ticks\":\"\"}}}],\"scatterpolargl\":[{\"type\":\"scatterpolargl\",\"marker\":{\"colorbar\":{\"outlinewidth\":0,\"ticks\":\"\"}}}],\"bar\":[{\"error_x\":{\"color\":\"#2a3f5f\"},\"error_y\":{\"color\":\"#2a3f5f\"},\"marker\":{\"line\":{\"color\":\"#E5ECF6\",\"width\":0.5},\"pattern\":{\"fillmode\":\"overlay\",\"size\":10,\"solidity\":0.2}},\"type\":\"bar\"}],\"scattergeo\":[{\"type\":\"scattergeo\",\"marker\":{\"colorbar\":{\"outlinewidth\":0,\"ticks\":\"\"}}}],\"scatterpolar\":[{\"type\":\"scatterpolar\",\"marker\":{\"colorbar\":{\"outlinewidth\":0,\"ticks\":\"\"}}}],\"histogram\":[{\"marker\":{\"pattern\":{\"fillmode\":\"overlay\",\"size\":10,\"solidity\":0.2}},\"type\":\"histogram\"}],\"scattergl\":[{\"type\":\"scattergl\",\"marker\":{\"colorbar\":{\"outlinewidth\":0,\"ticks\":\"\"}}}],\"scatter3d\":[{\"type\":\"scatter3d\",\"line\":{\"colorbar\":{\"outlinewidth\":0,\"ticks\":\"\"}},\"marker\":{\"colorbar\":{\"outlinewidth\":0,\"ticks\":\"\"}}}],\"scattermapbox\":[{\"type\":\"scattermapbox\",\"marker\":{\"colorbar\":{\"outlinewidth\":0,\"ticks\":\"\"}}}],\"scatterternary\":[{\"type\":\"scatterternary\",\"marker\":{\"colorbar\":{\"outlinewidth\":0,\"ticks\":\"\"}}}],\"scattercarpet\":[{\"type\":\"scattercarpet\",\"marker\":{\"colorbar\":{\"outlinewidth\":0,\"ticks\":\"\"}}}],\"carpet\":[{\"aaxis\":{\"endlinecolor\":\"#2a3f5f\",\"gridcolor\":\"white\",\"linecolor\":\"white\",\"minorgridcolor\":\"white\",\"startlinecolor\":\"#2a3f5f\"},\"baxis\":{\"endlinecolor\":\"#2a3f5f\",\"gridcolor\":\"white\",\"linecolor\":\"white\",\"minorgridcolor\":\"white\",\"startlinecolor\":\"#2a3f5f\"},\"type\":\"carpet\"}],\"table\":[{\"cells\":{\"fill\":{\"color\":\"#EBF0F8\"},\"line\":{\"color\":\"white\"}},\"header\":{\"fill\":{\"color\":\"#C8D4E3\"},\"line\":{\"color\":\"white\"}},\"type\":\"table\"}],\"barpolar\":[{\"marker\":{\"line\":{\"color\":\"#E5ECF6\",\"width\":0.5},\"pattern\":{\"fillmode\":\"overlay\",\"size\":10,\"solidity\":0.2}},\"type\":\"barpolar\"}],\"pie\":[{\"automargin\":true,\"type\":\"pie\"}]},\"layout\":{\"autotypenumbers\":\"strict\",\"colorway\":[\"#636efa\",\"#EF553B\",\"#00cc96\",\"#ab63fa\",\"#FFA15A\",\"#19d3f3\",\"#FF6692\",\"#B6E880\",\"#FF97FF\",\"#FECB52\"],\"font\":{\"color\":\"#2a3f5f\"},\"hovermode\":\"closest\",\"hoverlabel\":{\"align\":\"left\"},\"paper_bgcolor\":\"white\",\"plot_bgcolor\":\"#E5ECF6\",\"polar\":{\"bgcolor\":\"#E5ECF6\",\"angularaxis\":{\"gridcolor\":\"white\",\"linecolor\":\"white\",\"ticks\":\"\"},\"radialaxis\":{\"gridcolor\":\"white\",\"linecolor\":\"white\",\"ticks\":\"\"}},\"ternary\":{\"bgcolor\":\"#E5ECF6\",\"aaxis\":{\"gridcolor\":\"white\",\"linecolor\":\"white\",\"ticks\":\"\"},\"baxis\":{\"gridcolor\":\"white\",\"linecolor\":\"white\",\"ticks\":\"\"},\"caxis\":{\"gridcolor\":\"white\",\"linecolor\":\"white\",\"ticks\":\"\"}},\"coloraxis\":{\"colorbar\":{\"outlinewidth\":0,\"ticks\":\"\"}},\"colorscale\":{\"sequential\":[[0.0,\"#0d0887\"],[0.1111111111111111,\"#46039f\"],[0.2222222222222222,\"#7201a8\"],[0.3333333333333333,\"#9c179e\"],[0.4444444444444444,\"#bd3786\"],[0.5555555555555556,\"#d8576b\"],[0.6666666666666666,\"#ed7953\"],[0.7777777777777778,\"#fb9f3a\"],[0.8888888888888888,\"#fdca26\"],[1.0,\"#f0f921\"]],\"sequentialminus\":[[0.0,\"#0d0887\"],[0.1111111111111111,\"#46039f\"],[0.2222222222222222,\"#7201a8\"],[0.3333333333333333,\"#9c179e\"],[0.4444444444444444,\"#bd3786\"],[0.5555555555555556,\"#d8576b\"],[0.6666666666666666,\"#ed7953\"],[0.7777777777777778,\"#fb9f3a\"],[0.8888888888888888,\"#fdca26\"],[1.0,\"#f0f921\"]],\"diverging\":[[0,\"#8e0152\"],[0.1,\"#c51b7d\"],[0.2,\"#de77ae\"],[0.3,\"#f1b6da\"],[0.4,\"#fde0ef\"],[0.5,\"#f7f7f7\"],[0.6,\"#e6f5d0\"],[0.7,\"#b8e186\"],[0.8,\"#7fbc41\"],[0.9,\"#4d9221\"],[1,\"#276419\"]]},\"xaxis\":{\"gridcolor\":\"white\",\"linecolor\":\"white\",\"ticks\":\"\",\"title\":{\"standoff\":15},\"zerolinecolor\":\"white\",\"automargin\":true,\"zerolinewidth\":2},\"yaxis\":{\"gridcolor\":\"white\",\"linecolor\":\"white\",\"ticks\":\"\",\"title\":{\"standoff\":15},\"zerolinecolor\":\"white\",\"automargin\":true,\"zerolinewidth\":2},\"scene\":{\"xaxis\":{\"backgroundcolor\":\"#E5ECF6\",\"gridcolor\":\"white\",\"linecolor\":\"white\",\"showbackground\":true,\"ticks\":\"\",\"zerolinecolor\":\"white\",\"gridwidth\":2},\"yaxis\":{\"backgroundcolor\":\"#E5ECF6\",\"gridcolor\":\"white\",\"linecolor\":\"white\",\"showbackground\":true,\"ticks\":\"\",\"zerolinecolor\":\"white\",\"gridwidth\":2},\"zaxis\":{\"backgroundcolor\":\"#E5ECF6\",\"gridcolor\":\"white\",\"linecolor\":\"white\",\"showbackground\":true,\"ticks\":\"\",\"zerolinecolor\":\"white\",\"gridwidth\":2}},\"shapedefaults\":{\"line\":{\"color\":\"#2a3f5f\"}},\"annotationdefaults\":{\"arrowcolor\":\"#2a3f5f\",\"arrowhead\":0,\"arrowwidth\":1},\"geo\":{\"bgcolor\":\"white\",\"landcolor\":\"#E5ECF6\",\"subunitcolor\":\"white\",\"showland\":true,\"showlakes\":true,\"lakecolor\":\"white\"},\"title\":{\"x\":0.05},\"mapbox\":{\"style\":\"light\"}}},\"legend\":{\"tracegroupgap\":0},\"title\":{\"text\":\"Sales Distribution by Category (Grouped Small Categories)\"},\"piecolorway\":[\"rgb(141,211,199)\",\"rgb(255,255,179)\",\"rgb(190,186,218)\",\"rgb(251,128,114)\",\"rgb(128,177,211)\",\"rgb(253,180,98)\",\"rgb(179,222,105)\",\"rgb(252,205,229)\",\"rgb(217,217,217)\",\"rgb(188,128,189)\",\"rgb(204,235,197)\",\"rgb(255,237,111)\"]},                        {\"responsive\": true}                    ).then(function(){\n",
              "                            \n",
              "var gd = document.getElementById('606a97ed-15f7-4f7b-9fb2-fc99fb5df272');\n",
              "var x = new MutationObserver(function (mutations, observer) {{\n",
              "        var display = window.getComputedStyle(gd).display;\n",
              "        if (!display || display === 'none') {{\n",
              "            console.log([gd, 'removed!']);\n",
              "            Plotly.purge(gd);\n",
              "            observer.disconnect();\n",
              "        }}\n",
              "}});\n",
              "\n",
              "// Listen for the removal of the full notebook cells\n",
              "var notebookContainer = gd.closest('#notebook-container');\n",
              "if (notebookContainer) {{\n",
              "    x.observe(notebookContainer, {childList: true});\n",
              "}}\n",
              "\n",
              "// Listen for the clearing of the current output cell\n",
              "var outputEl = gd.closest('.output');\n",
              "if (outputEl) {{\n",
              "    x.observe(outputEl, {childList: true});\n",
              "}}\n",
              "\n",
              "                        })                };                            </script>        </div>\n",
              "</body>\n",
              "</html>"
            ]
          },
          "metadata": {}
        }
      ]
    },
    {
      "cell_type": "markdown",
      "source": [
        "## 1B. Product Contribution Analysis"
      ],
      "metadata": {
        "id": "_nSXSxDHfLM4"
      }
    },
    {
      "cell_type": "code",
      "source": [
        "wagyu_mask = (\n",
        "    product_df['Product'].str.contains('Wagyu', case=False, na=False) |\n",
        "    product_df['Category'].str.contains('Wagyu', case=False, na=False)\n",
        ")\n",
        "\n",
        "wagyu_df = product_df[wagyu_mask].copy()\n",
        "\n",
        "wagyu_sales = wagyu_df['Total Sales'].sum()\n",
        "\n",
        "total_sales = product_df['Total Sales'].sum()\n",
        "\n",
        "wagyu_percent = wagyu_sales / total_sales * 100\n",
        "\n",
        "print(f\"💹 Wagyu-related items contributed RM {wagyu_sales:,.2f} to total sales.\")\n",
        "print(f\"📊 This represents {wagyu_percent:.2f}% of all sales.\")"
      ],
      "metadata": {
        "colab": {
          "base_uri": "https://localhost:8080/",
          "height": 0
        },
        "id": "dV-IZ5QyfZ93",
        "outputId": "12673d5e-bc53-4973-fa98-fe68d15f2e2f"
      },
      "execution_count": 16,
      "outputs": [
        {
          "output_type": "stream",
          "name": "stdout",
          "text": [
            "💹 Wagyu-related items contributed RM 46,374.90 to total sales.\n",
            "📊 This represents 20.16% of all sales.\n"
          ]
        }
      ]
    },
    {
      "cell_type": "markdown",
      "source": [
        "## 1C. Sales Performance Metric"
      ],
      "metadata": {
        "id": "LWmnHztGfjK1"
      }
    },
    {
      "cell_type": "markdown",
      "source": [
        "In my view, both sales amount and quantity sold are important, and which one to prioritize depends on the objective of the analysis and the product type.\n",
        "\n",
        "For instance, if our goal is to analyze customer demand or product popularity **over time**, or when prices are volatile (due to discounts, inflation, exchaneg rate, seasonal menus, etc.), then quantity sold is a better metric. For example, the Sudoku Platter might have a lower sales due to a seasonal promotion, but consistent quantity sold still shows that it's a staple favorite. From operation's persepctive, quantity sold also provides insights for planning inventory and staffing. Looking solely at sales amount (which drop due to some external factor) may be misleading in informing operational decisions.\n",
        "\n",
        "On the other hand, sales amount is more useful when comparing the financial performance between items. It helps track revenue contribution, identify high-margin products, and inform menu pricing or promotional strategies. For example, while the Sudoku Platter rank first by sales, it is not in teh top 10 products by quantity. Meanwhile Signature Teriyaki sells in high volumes but generate much less revenue. These insights could help buiness to identify items to upsell or bundle (e.g., high revenue Wagyu dishes), or to adjust pricing for some products.\n",
        "\n",
        "\n",
        "In conclusion, rather than choosing one over the other, I would track both to understand what customers love while keeping the buisiness profitable."
      ],
      "metadata": {
        "id": "TfgntAtc165J"
      }
    },
    {
      "cell_type": "markdown",
      "source": [
        "## 1D. Product Development Recommendation"
      ],
      "metadata": {
        "id": "DbRWakio9Ih9"
      }
    },
    {
      "cell_type": "code",
      "source": [],
      "metadata": {
        "id": "G5HRh7Hl9IC5"
      },
      "execution_count": null,
      "outputs": []
    },
    {
      "cell_type": "markdown",
      "source": [
        "# Archive"
      ],
      "metadata": {
        "id": "Y6dWM7iZFrXR"
      }
    },
    {
      "cell_type": "code",
      "source": [
        "import pandas as pd\n",
        "import plotly.graph_objects as go\n",
        "\n",
        "# 1. Aggregate and compute unit price\n",
        "bucket_df = product_df.groupby(['Product', 'Category']).agg({\n",
        "    'Total Quantity': 'sum',\n",
        "    'Total Sales': 'sum'\n",
        "}).reset_index()\n",
        "\n",
        "bucket_df['Unit Price'] = bucket_df['Total Sales'] / bucket_df['Total Quantity']\n",
        "\n",
        "# 2. Compute medians\n",
        "x_median = bucket_df['Total Quantity'].median()\n",
        "y_median = bucket_df['Unit Price'].median()\n",
        "\n",
        "# 3. Classify into buckets\n",
        "def classify(row):\n",
        "    if row['Total Quantity'] >= x_median and row['Unit Price'] >= y_median:\n",
        "        return \"High Sales, High Margin\"\n",
        "    elif row['Total Quantity'] < x_median and row['Unit Price'] >= y_median:\n",
        "        return \"Low Sales, High Margin\"\n",
        "    elif row['Total Quantity'] >= x_median and row['Unit Price'] < y_median:\n",
        "        return \"High Sales, Low Margin\"\n",
        "    else:\n",
        "        return \"Low Sales, Low Margin\"\n",
        "\n",
        "bucket_df['Bucket'] = bucket_df.apply(classify, axis=1)\n",
        "\n",
        "# 4. Prepare traces\n",
        "def make_trace(df, name):\n",
        "    return go.Scatter(\n",
        "        x=df['Total Quantity'],\n",
        "        y=df['Unit Price'],\n",
        "        mode='markers',\n",
        "        marker=dict(size=10),\n",
        "        name=name,\n",
        "        text=df['Product'],\n",
        "        hovertemplate=\"<b>%{text}</b><br>Quantity: %{x}<br>Unit Price: %{y:.2f}<extra></extra>\",\n",
        "        showlegend=False\n",
        "    )\n",
        "\n",
        "# Base traces\n",
        "traces = [\n",
        "    make_trace(bucket_df, 'All Products'),\n",
        "    make_trace(bucket_df.nlargest(10, 'Total Sales'), 'Top 10 by Sales'),\n",
        "    make_trace(bucket_df.nlargest(20, 'Total Sales'), 'Top 20 by Sales')\n",
        "]\n",
        "\n",
        "# Per-category traces\n",
        "categories = bucket_df['Category'].dropna().unique()\n",
        "for cat in categories:\n",
        "    df_cat = bucket_df[bucket_df['Category'] == cat]\n",
        "    traces.append(make_trace(df_cat, f\"Category: {cat}\"))\n",
        "\n",
        "# 5. Layout and dropdown menu\n",
        "buttons = [\n",
        "    dict(label=\"All Products\", method=\"update\", args=[{\"visible\": [True] + [False]* (len(traces)-1)}]),\n",
        "    dict(label=\"Top 10 by Sales\", method=\"update\", args=[{\"visible\": [False, True] + [False]* (len(traces)-2)}]),\n",
        "    dict(label=\"Top 20 by Sales\", method=\"update\", args=[{\"visible\": [False, False, True] + [False]* (len(traces)-3)}])\n",
        "]\n",
        "\n",
        "# Add buttons for each category\n",
        "for i, cat in enumerate(categories):\n",
        "    visible = [False]*len(traces)\n",
        "    visible[3 + i] = True  # category traces start at index 3\n",
        "    buttons.append(\n",
        "        dict(label=f\"Category: {cat}\", method=\"update\", args=[{\"visible\": visible}])\n",
        "    )\n",
        "\n",
        "# 6. Create figure\n",
        "fig = go.Figure(data=traces)\n",
        "\n",
        "# Add quadrant lines\n",
        "fig.add_vline(x=x_median, line_dash=\"dash\", line_color=\"gray\")\n",
        "fig.add_hline(y=y_median, line_dash=\"dash\", line_color=\"gray\")\n",
        "\n",
        "# Layout updates\n",
        "fig.update_layout(\n",
        "    title=\"Profitability Buckets: Sales Volume vs Unit Price\",\n",
        "    xaxis_title=\"Total Quantity Sold\",\n",
        "    yaxis_title=\"Unit Price (RM)\",\n",
        "    height=650,\n",
        "    updatemenus=[dict(\n",
        "        buttons=buttons,\n",
        "        direction=\"down\",\n",
        "        showactive=True,\n",
        "        x=1.0,\n",
        "        xanchor=\"right\",\n",
        "        y=1.15,\n",
        "        yanchor=\"top\"\n",
        "    )]\n",
        ")\n",
        "\n",
        "fig.show()"
      ],
      "metadata": {
        "colab": {
          "base_uri": "https://localhost:8080/",
          "height": 667
        },
        "id": "ONUEN7f0FuD5",
        "outputId": "3ff2a3b3-e618-4787-9ff0-a768b8ff66e5"
      },
      "execution_count": null,
      "outputs": [
        {
          "output_type": "display_data",
          "data": {
            "text/html": [
              "<html>\n",
              "<head><meta charset=\"utf-8\" /></head>\n",
              "<body>\n",
              "    <div>            <script src=\"https://cdnjs.cloudflare.com/ajax/libs/mathjax/2.7.5/MathJax.js?config=TeX-AMS-MML_SVG\"></script><script type=\"text/javascript\">if (window.MathJax && window.MathJax.Hub && window.MathJax.Hub.Config) {window.MathJax.Hub.Config({SVG: {font: \"STIX-Web\"}});}</script>                <script type=\"text/javascript\">window.PlotlyConfig = {MathJaxConfig: 'local'};</script>\n",
              "        <script charset=\"utf-8\" src=\"https://cdn.plot.ly/plotly-2.35.2.min.js\"></script>                <div id=\"ba4d435c-1045-4dcf-af83-a28ec46b18e8\" class=\"plotly-graph-div\" style=\"height:650px; width:100%;\"></div>            <script type=\"text/javascript\">                                    window.PLOTLYENV=window.PLOTLYENV || {};                                    if (document.getElementById(\"ba4d435c-1045-4dcf-af83-a28ec46b18e8\")) {                    Plotly.newPlot(                        \"ba4d435c-1045-4dcf-af83-a28ec46b18e8\",                        [{\"hovertemplate\":\"\\u003cb\\u003e%{text}\\u003c\\u002fb\\u003e\\u003cbr\\u003eQuantity: %{x}\\u003cbr\\u003eUnit Price: %{y:.2f}\\u003cextra\\u003e\\u003c\\u002fextra\\u003e\",\"marker\":{\"size\":10},\"mode\":\"markers\",\"name\":\"All Products\",\"showlegend\":false,\"text\":[\" Japanese Grilled Unagi Don\",\"24 pcs Strong Houjicha Nama Chocolate\",\"380 High Tea Set\",\"6pcs Black Sesame Chocolate\",\"6pcs Strong Houjicha Chocolate\",\"6pcs Strong Matcha Chocolate\",\"6pcs Yuzu Milk Nama Chocolate\",\"Abalone Salad Taco\",\"Aburi Salmon Don\",\"Aburi Salmon Don.\",\"Aburi Salmon Premium Set Meal\",\"Add on Udon\",\"Agedashi Tofu Appetizer\",\"Angus Ox Tongue Appetizer\",\"Angus Ox Tongue Don\",\"Asahi Super Dry 330ml\",\"Avo Sushi\",\"Babycino\",\"Black Sesame Latte\",\"Black Truffle Croissant\",\"Black Truffle Wagyu Ramen\",\"Black Truffle Wagyu Ramen.\",\"Burnt Cheese Cake\",\"Canelé\",\"Cappucino\",\"Cheese Kogashi Toast\",\"Coca Cola - Classic\",\"Coca Cola - No sugar\",\"Cold Brew\",\"Corona Extra 355ml\",\"Crab Meat w Fish Roe Taco\",\"Dirty Black Sesame Latte\",\"Dirty Houjicha Latte\",\"Dirty Matcha Latte\",\"Double Black Pork Belly Ramen\",\"Double Black Wagyu Ramen.\",\"Double Scoop\",\"Espresso\",\"Extra Shot\",\"Flat White\",\"Flow Glaze Breakfast Mug\",\"Foie Gras Premium Wagyu Don\",\"Free Gelato - Google\",\"Fried Tako Appetizer\",\"GENMAI CHA\",\"GENMAI CHA KIIRO \",\"GENMAICHA TEA BAG\",\"Gooday Original\",\"Grilled Chicken Thigh\",\"Grilled Chicken Wingette\",\"Grilled Corn\",\"Grilled Eggplant\",\"Grilled Hokkaido Scallop\",\"Grilled Japanese A5 Wagyu\",\"Grilled King Mushroom\",\"Grilled Okra\",\"Grilled Ora King Salmon\",\"Grilled Ox Tongue\",\"Grilled Pork Belly\",\"Grilled Shiitake\",\"Grilled Short Rib Wagyu\",\"Grilled Signature Wagyu\",\"Grilled Unagi Appetizer\",\"Grilled Unagi Chazuke\",\"HAKUTSURU Puru Puru Momo (Peach)\",\"HOJICHA TEA BAG\",\"HOUJICHA PYRAMID TEA BAG\",\"Hamachi King Fish Sushi\",\"Hamachi King Fish Taco\",\"Hazelnut Chocolate Crossaint\",\"Hokkaido Manjū\",\"Hokkaido Milk Bun\",\"Hokkaido Milk Tea Croissant\",\"Hokkaido Milk Tea Pan\",\"Hokkaido Scallop Taco\",\"Hokkaido Soy Milk Tonkotsu Hotpot\",\"Hot Chocolate\",\"Hot Latte\",\"Hot Long Black \",\"Hot Yuzu Tea\",\"Houjicha Latte\",\"Houjicha x Matcha Financier\",\"Hōjicha Manjū\",\"IYEMON IRIGOME IRI HOUJICHA\",\"Iced Black Sesame Latte w Ice cream\",\"Iced Caramel Latte\",\"Iced Chocolate\",\"Iced Houjicha Latte w Houjicha\\u002f Vanila ice cream\",\"Iced Latte\",\"Iced Long Black\",\"Iced Matcha Latte w Matcha\\u002f Vanila ice cream\",\"Iced Mocha\",\"Iced Strawberry Matcha Latte\",\"Iced Yuzu Blackcurrant\",\"Iced Yuzu Tea\",\"Japanese A5 Wagyu (Ala Carte)\",\"Japanese A5 Wagyu Don\",\"Junmai Daiginjo Cherry Sake 300ml\",\"Kaiten Open Item\",\"Karaage Chicken Appetizer\",\"Karaage Chicken Don\",\"Karaage Chicken Premium Set Meal\",\"Katsu Chicken Appetizer\",\"Katsu Chicken Don\",\"Kim Crawford Pinot Gris\",\"Kitchen Open Item\",\"Kizakura Yuzu High Ball 330ml\",\"Koicha Uji Matcha Affogato\",\"Kyoto Matcha Croissant\",\"Kyoto Matcha Pan\",\"Kyoto Matcha Toast\",\"Little Yering Chardonnay\",\"Little Yering Pinot Noir\",\"Lobster Meat Taco\",\"Lychee Sake Martini\",\"Macchiato\",\"Magic\",\"Maguro Tuna Sashimi\\u002fTataki\",\"Maguro Tuna Sushi\",\"Maguro Tuna Taco\",\"Marshmallow Black Sesame Latte\",\"Marshmallow Houjicha Latte\",\"Marshmallow Matcha Latte\",\"Matcha Bar Open Item\",\"Matcha Coconut Cold Brew\",\"Matcha Crepe Cake\",\"Matcha Ice Cream Mochi Bowl\",\"Matcha Latte Z1\",\"Matcha Latte Z2\",\"Matcha Latte Z3\",\"Matcha Manjū\",\"Midnight Citrus\",\"Mini Black Garlic\",\"Mini Black Sesame Anpan\",\"Mini Black Truffle\",\"Mini Hokkaido Anpan\",\"Mini Hokkaido Melon Pan\",\"Mini Hokkaido Shio Pan\",\"Mini Honey Toast\",\"Mini Hōjicha Anpan\",\"Mini Hōjicha Melon Pan\",\"Mini Hōjicha Shio Pan\",\"Mini Matcha Anpan\",\"Mini Matcha Honey Toast\",\"Mini Matcha Melon Pan\",\"Mini Matcha Shio Pan\",\"Mini Red Bean Mochi \",\"Mini Sweet Potato Shio Pan\",\"Misty Forest\",\"Mocha\",\"Mount Franklin Still Bottle\",\"Murasaki Manjū (Purple Potato)\",\"OMI Ceramic Mug\",\"OMI Washoku Journey Tea Towel\",\"Okayama Oyster Appetizer\",\"Ora King Salmon & Hokkaido Scallop Sushi\",\"Ora King Salmon & Maguro Tuna Sushi\",\"Ora King Salmon Chazuke\",\"Ora King Salmon Sashimi\\u002fTataki\",\"Ora King Salmon Sushi\",\"Ora King Salmon Taco\",\"Original Croissant\",\"Original x Houjicha Financier\",\"Original x Matcha Financier\",\"Oyster bay Sauvignon Blanc\",\"Panna Cotta\",\"Penfolds Koonunga Hill Cabernet Sauvignon\",\"Penfolds Koonunga Hill Shiraz Cabernet\",\"Piccolo\",\"Pink Fuji\",\"Premium Sashimi Chazuke\",\"Premium Sashimi Platter\",\"Premium Short Rib Premium Set Meal\",\"Premium Short Rib Wagyu (Ala carte)\",\"Premium Short Rib Wagyu Appetizer\",\"Premium Short Rib Wagyu Don\",\"Premium Sushi Platter\",\"Ribbed Soup Bowl  (7.5\\\")\",\"Roku Gin - Yuzu Blackcurrant Sparkling\",\"Roku Gin - Yuzu Sparkling\",\"SENCHA GREEN\",\"SENCHA PYRAMID TEA BAG\",\"SENCHA TEA BAG\",\"Sake 1 -Junmai Dry\",\"Sake 2 - HAKUTSURU Sayuri Nigori \",\"Sake 3 - Yuzushu\",\"Sake Cosmo\",\"Sake Mojito\",\"Sake Tasting Set\",\"Sakura Lychee Pan\",\"Salted Egg Fries\",\"Sapporo 355ml\",\"Sencha\",\"Shiratama Black Sesame Latte\",\"Shiratama Houjicha Latte\",\"Shiratama Matcha Latte\",\"Shokupan Petite\",\"Signature Chirashi Chazuke\",\"Signature Sashimi Chazuke\",\"Signature Sushi Platter\",\"Signature Wagyu Appetizer\",\"Signature Wagyu Don\",\"Signature Wagyu Don.\",\"Signature Wagyu Premium Set Meal\",\"Single Scoop\",\"Single Scoop - Google Redemption\",\"Slow Cooked Pork Belly Don\",\"Slow Cooked Pork Belly Premium Set Meal\",\"Soft Shell Crab Appetizer\",\"Soft Shell Crab Don\",\"Somerby Apple Cider 330ml\",\"Soy Marinated Ora King Salmon Sashimi\",\"Spicy Mayo Fries\",\"Spicy Tonkutsu Pork Belly Ramen\",\"Spicy Wagyu Ramen.\",\"Sprite \",\"Straight Matcha Z1\",\"Straight Matcha Z2\",\"Straight Matcha Z3\",\"Sudoku Platter\",\"Sukiyaki Hotpot\",\"Sukiyaki Hotpot Soy Bean Soup.\",\"Swiss Roll\",\"TOKUYO MACCHA IRI GENMAICHA TEA BAG\",\"TOKUYO RYOKUCHA TEA BAG\",\"Take Home Pack 1L\",\"Take home pack 0.5L\",\"Tako (Japanese Octopus) Don\",\"Taro Mochi Bowl\",\"Tempura Eggplant Appetizer\",\"Tempura Eggplant Don\",\"Tempura Prawn Appetizer\",\"Teriyaki Chicken Don\",\"Tiramisu\",\"Tokyo Slipper\",\"Tonkutsu Pork Belly Ramen\",\"Truffle Fries\",\"Truffle Mayo Fries\",\"UJINOTSUYU IEMON Macchairi Genmaicha\",\"Uji Matcha Day Dream\",\"Uji Matcha Jelly\",\"Uji Matcha Parfait\",\"Uji Matcha Red Bean Mochi\",\"Ultimate Wagyu Appetizer\",\"Ultimate Wagyu Don\",\"Unagi Taco\",\"Vegetarian Gyoza Appetizer\",\"Wagyu Beef Tataki\",\"Wagyu Gyoza Appetizer\",\"Wasabi Mayo Fries\",\"Washoku Canvas Bag Redemption\",\"White Rice\",\"Yuzu Blackcurrant Fizz\",\"Yuzu Fizz\",\"Yuzu Ichigo\",\"Yuzu Mikan\",\"Z1 Yame Matcha\"],\"x\":[122,1,70,2,2,2,2,13,85,1,92,5,19,21,38,56,6,1,62,68,171,3,98,257,19,17,46,61,5,13,26,16,14,61,212,1,96,5,1,35,1,6,123,12,2,5,2,16,221,78,64,59,141,15,69,108,35,81,149,54,19,152,14,80,1,3,2,8,24,80,150,2,77,37,57,61,10,44,15,61,89,52,145,4,12,7,13,14,30,17,65,11,272,3,93,4,13,1,4,65,169,40,51,98,1,21,18,23,71,27,2,9,13,120,9,3,7,10,5,72,13,25,75,2,23,150,65,97,264,410,74,18,216,192,216,264,220,252,141,208,157,207,214,49,136,89,236,209,11,6,17,141,5,1,37,56,41,48,54,29,166,33,77,62,12,53,4,5,4,31,96,117,28,29,7,12,82,4,3,10,1,1,2,5,11,16,2,6,50,17,79,17,13,9,23,250,36,125,92,145,58,321,3,295,359,116,77,51,13,76,5,3,15,151,3,20,14,37,53,258,65,1,120,5,3,1,9,58,18,14,2,12,111,124,3,156,169,52,1,106,50,90,28,30,110,39,40,38,111,15,7,29,111,97,38,166,20],\"y\":[29.348360655737704,32.9,42.32857142857143,12.9,12.9,12.9,12.9,9.899999999999999,29.721176470588237,28.9,36.1554347826087,3.9,13.136842105263158,21.9,31.86842105263158,12.0,11.9,2.0,7.312903225806451,6.8999999999999995,32.9,32.9,13.509183673469389,4.5,6.121052631578947,4.8999999999999995,4.5,4.5,6.5,12.0,8.9,8.8,8.885714285714286,9.79016393442623,26.900000000000002,32.9,8.9,4.5,1.0,5.985714285714286,16.9,61.15,0.0,15.191666666666668,6.9,5.9,6.9,12.0,5.9,5.8999999999999995,3.9,3.9,12.9,35.9,4.9,3.9,15.9,14.9,7.8999999999999995,4.9,24.900000000000002,13.9,20.614285714285717,32.9,10.9,6.8999999999999995,6.9,19.15,8.9,6.9,3.5,5.9,6.5,24.9,8.9,64.04590163934427,6.75,6.281818181818181,5.033333333333333,3.9,7.4348314606741575,2.5,3.9,12.9,12.191666666666668,8.128571428571428,8.2,12.0,7.696666666666667,7.311764705882353,13.032307692307693,8.227272727272727,11.106250000000001,6.8999999999999995,4.933333333333334,99.9,71.32307692307693,48.0,17.2,16.36307692307692,23.93372781065089,30.2,15.135294117647058,23.971428571428568,33.0,4.371428571428571,15.0,7.8999999999999995,6.8999999999999995,26.9,4.5,16.666666666666668,12.0,9.9,18.0,4.5,5.7,20.9,23.7,9.899999999999999,8.061538461538461,8.04,8.930666666666665,2.0,9.9,13.81,12.9,7.703092783505155,8.68030303030303,9.89390243902439,3.9000000000000004,9.899999999999999,3.5,2.9,3.5,2.5,3.2,3.1999999999999997,2.5,2.9000000000000004,3.5,3.5,2.9,2.9,3.5,3.5,3.9,3.5,9.9,6.183333333333334,4.5,3.9,16.9,25.0,16.94054054054054,22.167857142857144,23.509756097560974,34.9,19.9,21.93448275862069,8.9,5.5,2.5,2.5,19.0,7.8999999999999995,12.0,20.4,6.025,8.899999999999999,39.9,49.47350427350427,53.239285714285714,59.9,39.18571428571429,47.31666666666666,32.900000000000006,16.9,17.0,17.0,7.9,7.9,6.4,61.0,45.45454545454545,37.8125,18.0,18.0,22.0,22.900000000000002,10.032911392405063,12.0,8.9,9.38888888888889,9.326086956521738,10.6972,6.9,36.9,37.9,25.59655172413793,19.71206896551724,27.591277258566976,26.900000000000002,34.25050847457627,6.8999999999999995,0.0,25.84155844155844,32.14509803921569,20.138461538461538,27.45921052631579,12.0,19.900000000000002,9.106666666666666,23.900000000000002,31.900000000000002,4.5,7.0,8.164864864864866,8.971698113207546,39.900000000000006,68.69846153846153,133.7,9.929166666666667,9.9,9.9,32.0,19.0,25.236206896551725,12.899999999999999,9.292857142857143,15.9,15.9,22.83153153153153,12.899999999999999,18.0,22.900000000000002,9.962130177514792,9.967307692307692,6.9,8.9,5.9,15.9,12.9,26.283333333333335,33.72727272727273,8.9,11.925,18.900000000000002,18.640540540540538,8.9,0.0,3.9379310344827587,8.5,7.8999999999999995,7.8999999999999995,3.9,25.9],\"type\":\"scatter\"},{\"hovertemplate\":\"\\u003cb\\u003e%{text}\\u003c\\u002fb\\u003e\\u003cbr\\u003eQuantity: %{x}\\u003cbr\\u003eUnit Price: %{y:.2f}\\u003cextra\\u003e\\u003c\\u002fextra\\u003e\",\"marker\":{\"size\":10},\"mode\":\"markers\",\"name\":\"Top 10 by Sales\",\"showlegend\":false,\"text\":[\"Sudoku Platter\",\"Signature Wagyu Premium Set Meal\",\"Signature Wagyu Don\",\"Premium Sashimi Platter\",\"Double Black Pork Belly Ramen\",\"Black Truffle Wagyu Ramen\",\"Signature Chirashi Chazuke\",\"Sukiyaki Hotpot\",\"Matcha Latte Z3\",\"Karaage Chicken Don\"],\"x\":[258,295,321,117,212,171,125,65,410,169],\"y\":[39.900000000000006,34.25050847457627,27.591277258566976,49.47350427350427,26.900000000000002,32.9,36.9,68.69846153846153,9.89390243902439,23.93372781065089],\"type\":\"scatter\"},{\"hovertemplate\":\"\\u003cb\\u003e%{text}\\u003c\\u002fb\\u003e\\u003cbr\\u003eQuantity: %{x}\\u003cbr\\u003eUnit Price: %{y:.2f}\\u003cextra\\u003e\\u003c\\u002fextra\\u003e\",\"marker\":{\"size\":10},\"mode\":\"markers\",\"name\":\"Top 20 by Sales\",\"showlegend\":false,\"text\":[\"Sudoku Platter\",\"Signature Wagyu Premium Set Meal\",\"Signature Wagyu Don\",\"Premium Sashimi Platter\",\"Double Black Pork Belly Ramen\",\"Black Truffle Wagyu Ramen\",\"Signature Chirashi Chazuke\",\"Sukiyaki Hotpot\",\"Matcha Latte Z3\",\"Karaage Chicken Don\",\"Hokkaido Soy Milk Tonkotsu Hotpot\",\"Premium Sashimi Chazuke\",\"Signature Sushi Platter\",\"Ultimate Wagyu Don\",\"Spicy Tonkutsu Pork Belly Ramen\",\" Japanese Grilled Unagi Don\",\"Tonkutsu Pork Belly Ramen\",\"Signature Sashimi Chazuke\",\"Aburi Salmon Premium Set Meal\",\"Iced Strawberry Matcha Latte\"],\"x\":[258,295,321,117,212,171,125,65,410,169,61,96,145,110,151,122,156,92,92,272],\"y\":[39.900000000000006,34.25050847457627,27.591277258566976,49.47350427350427,26.900000000000002,32.9,36.9,68.69846153846153,9.89390243902439,23.93372781065089,64.04590163934427,39.9,25.59655172413793,33.72727272727273,23.900000000000002,29.348360655737704,22.900000000000002,37.9,36.1554347826087,11.106250000000001],\"type\":\"scatter\"},{\"hovertemplate\":\"\\u003cb\\u003e%{text}\\u003c\\u002fb\\u003e\\u003cbr\\u003eQuantity: %{x}\\u003cbr\\u003eUnit Price: %{y:.2f}\\u003cextra\\u003e\\u003c\\u002fextra\\u003e\",\"marker\":{\"size\":10},\"mode\":\"markers\",\"name\":\"Category: OMI Don\",\"showlegend\":false,\"text\":[\" Japanese Grilled Unagi Don\",\"Aburi Salmon Don\",\"Karaage Chicken Don\",\"Katsu Chicken Don\",\"Slow Cooked Pork Belly Don\",\"Soft Shell Crab Don\",\"Tako (Japanese Octopus) Don\",\"Tempura Eggplant Don\",\"Teriyaki Chicken Don\",\"White Rice\"],\"x\":[122,85,169,98,77,76,58,2,111,29],\"y\":[29.348360655737704,29.721176470588237,23.93372781065089,23.971428571428568,25.84155844155844,27.45921052631579,25.236206896551725,15.9,22.83153153153153,3.9379310344827587],\"type\":\"scatter\"},{\"hovertemplate\":\"\\u003cb\\u003e%{text}\\u003c\\u002fb\\u003e\\u003cbr\\u003eQuantity: %{x}\\u003cbr\\u003eUnit Price: %{y:.2f}\\u003cextra\\u003e\\u003c\\u002fextra\\u003e\",\"marker\":{\"size\":10},\"mode\":\"markers\",\"name\":\"Category: Merchants\",\"showlegend\":false,\"text\":[\"24 pcs Strong Houjicha Nama Chocolate\",\"6pcs Black Sesame Chocolate\",\"6pcs Strong Houjicha Chocolate\",\"6pcs Strong Matcha Chocolate\",\"6pcs Yuzu Milk Nama Chocolate\",\"Flow Glaze Breakfast Mug\",\"GENMAI CHA\",\"GENMAI CHA KIIRO \",\"GENMAICHA TEA BAG\",\"HOJICHA TEA BAG\",\"HOUJICHA PYRAMID TEA BAG\",\"IYEMON IRIGOME IRI HOUJICHA\",\"OMI Ceramic Mug\",\"OMI Washoku Journey Tea Towel\",\"Ribbed Soup Bowl  (7.5\\\")\",\"SENCHA GREEN\",\"SENCHA PYRAMID TEA BAG\",\"SENCHA TEA BAG\",\"TOKUYO MACCHA IRI GENMAICHA TEA BAG\",\"TOKUYO RYOKUCHA TEA BAG\",\"UJINOTSUYU IEMON Macchairi Genmaicha\",\"Z1 Yame Matcha\"],\"x\":[1,2,2,2,2,1,2,5,2,3,2,4,5,1,4,1,1,2,5,3,1,20],\"y\":[32.9,12.9,12.9,12.9,12.9,16.9,6.9,5.9,6.9,6.8999999999999995,6.9,12.9,16.9,25.0,16.9,7.9,7.9,6.4,9.9,9.9,6.9,25.9],\"type\":\"scatter\"},{\"hovertemplate\":\"\\u003cb\\u003e%{text}\\u003c\\u002fb\\u003e\\u003cbr\\u003eQuantity: %{x}\\u003cbr\\u003eUnit Price: %{y:.2f}\\u003cextra\\u003e\\u003c\\u002fextra\\u003e\",\"marker\":{\"size\":10},\"mode\":\"markers\",\"name\":\"Category: Dessert\",\"showlegend\":false,\"text\":[\"380 High Tea Set\",\"Burnt Cheese Cake\",\"Hokkaido Milk Tea Pan\",\"Koicha Uji Matcha Affogato\",\"Kyoto Matcha Pan\",\"Matcha Crepe Cake\",\"Matcha Ice Cream Mochi Bowl\",\"Panna Cotta\",\"Sakura Lychee Pan\",\"Swiss Roll\",\"Taro Mochi Bowl\",\"Tiramisu\",\"Uji Matcha Jelly\",\"Uji Matcha Parfait\",\"Uji Matcha Red Bean Mochi\"],\"x\":[70,98,37,23,27,150,65,53,17,120,18,124,50,90,28],\"y\":[42.32857142857143,13.509183673469389,24.9,7.8999999999999995,26.9,13.81,12.9,7.8999999999999995,22.900000000000002,9.929166666666667,12.899999999999999,12.899999999999999,5.9,15.9,12.9],\"type\":\"scatter\"},{\"hovertemplate\":\"\\u003cb\\u003e%{text}\\u003c\\u002fb\\u003e\\u003cbr\\u003eQuantity: %{x}\\u003cbr\\u003eUnit Price: %{y:.2f}\\u003cextra\\u003e\\u003c\\u002fextra\\u003e\",\"marker\":{\"size\":10},\"mode\":\"markers\",\"name\":\"Category: Sushi Taco\",\"showlegend\":false,\"text\":[\"Abalone Salad Taco\",\"Crab Meat w Fish Roe Taco\",\"Hamachi King Fish Taco\",\"Hokkaido Scallop Taco\",\"Lobster Meat Taco\",\"Maguro Tuna Taco\",\"Ora King Salmon Taco\",\"Unagi Taco\"],\"x\":[13,26,24,57,120,72,166,39],\"y\":[9.899999999999999,8.9,8.9,8.9,9.9,9.899999999999999,8.9,8.9],\"type\":\"scatter\"},{\"hovertemplate\":\"\\u003cb\\u003e%{text}\\u003c\\u002fb\\u003e\\u003cbr\\u003eQuantity: %{x}\\u003cbr\\u003eUnit Price: %{y:.2f}\\u003cextra\\u003e\\u003c\\u002fextra\\u003e\",\"marker\":{\"size\":10},\"mode\":\"markers\",\"name\":\"Category: No Pork No Lard\",\"showlegend\":false,\"text\":[\"Aburi Salmon Don.\",\"Black Truffle Wagyu Ramen.\",\"Double Black Wagyu Ramen.\",\"Signature Wagyu Don.\",\"Spicy Wagyu Ramen.\",\"Sukiyaki Hotpot Soy Bean Soup.\"],\"x\":[1,3,1,3,3,1],\"y\":[28.9,32.9,32.9,26.900000000000002,31.900000000000002,133.7],\"type\":\"scatter\"},{\"hovertemplate\":\"\\u003cb\\u003e%{text}\\u003c\\u002fb\\u003e\\u003cbr\\u003eQuantity: %{x}\\u003cbr\\u003eUnit Price: %{y:.2f}\\u003cextra\\u003e\\u003c\\u002fextra\\u003e\",\"marker\":{\"size\":10},\"mode\":\"markers\",\"name\":\"Category: Premium Set Meal\",\"showlegend\":false,\"text\":[\"Aburi Salmon Premium Set Meal\",\"Karaage Chicken Premium Set Meal\",\"Premium Short Rib Premium Set Meal\",\"Signature Wagyu Premium Set Meal\",\"Slow Cooked Pork Belly Premium Set Meal\"],\"x\":[92,40,28,295,51],\"y\":[36.1554347826087,30.2,53.239285714285714,34.25050847457627,32.14509803921569],\"type\":\"scatter\"},{\"hovertemplate\":\"\\u003cb\\u003e%{text}\\u003c\\u002fb\\u003e\\u003cbr\\u003eQuantity: %{x}\\u003cbr\\u003eUnit Price: %{y:.2f}\\u003cextra\\u003e\\u003c\\u002fextra\\u003e\",\"marker\":{\"size\":10},\"mode\":\"markers\",\"name\":\"Category: Japanese Hotpot\",\"showlegend\":false,\"text\":[\"Add on Udon\",\"Hokkaido Soy Milk Tonkotsu Hotpot\",\"Japanese A5 Wagyu (Ala Carte)\",\"Premium Short Rib Wagyu (Ala carte)\",\"Sukiyaki Hotpot\"],\"x\":[5,61,4,29,65],\"y\":[3.9,64.04590163934427,99.9,59.9,68.69846153846153],\"type\":\"scatter\"},{\"hovertemplate\":\"\\u003cb\\u003e%{text}\\u003c\\u002fb\\u003e\\u003cbr\\u003eQuantity: %{x}\\u003cbr\\u003eUnit Price: %{y:.2f}\\u003cextra\\u003e\\u003c\\u002fextra\\u003e\",\"marker\":{\"size\":10},\"mode\":\"markers\",\"name\":\"Category: Fried Appetizer\",\"showlegend\":false,\"text\":[\"Agedashi Tofu Appetizer\",\"Fried Tako Appetizer\",\"Karaage Chicken Appetizer\",\"Katsu Chicken Appetizer\",\"Okayama Oyster Appetizer\",\"Salted Egg Fries\",\"Soft Shell Crab Appetizer\",\"Spicy Mayo Fries\",\"Tempura Eggplant Appetizer\",\"Tempura Prawn Appetizer\",\"Truffle Fries\",\"Truffle Mayo Fries\",\"Vegetarian Gyoza Appetizer\",\"Wagyu Gyoza Appetizer\",\"Wasabi Mayo Fries\"],\"x\":[19,12,65,51,37,79,13,15,14,12,169,52,40,111,15],\"y\":[13.136842105263158,15.191666666666668,16.36307692307692,15.135294117647058,16.94054054054054,10.032911392405063,20.138461538461538,9.106666666666666,9.292857142857143,15.9,9.962130177514792,9.967307692307692,11.925,18.640540540540538,8.9],\"type\":\"scatter\"},{\"hovertemplate\":\"\\u003cb\\u003e%{text}\\u003c\\u002fb\\u003e\\u003cbr\\u003eQuantity: %{x}\\u003cbr\\u003eUnit Price: %{y:.2f}\\u003cextra\\u003e\\u003c\\u002fextra\\u003e\",\"marker\":{\"size\":10},\"mode\":\"markers\",\"name\":\"Category: Grilled Appetizer\",\"showlegend\":false,\"text\":[\"Angus Ox Tongue Appetizer\",\"Grilled Unagi Appetizer\",\"Premium Short Rib Wagyu Appetizer\",\"Signature Wagyu Appetizer\",\"Ultimate Wagyu Appetizer\"],\"x\":[21,14,7,58,30],\"y\":[21.9,20.614285714285717,39.18571428571429,19.71206896551724,26.283333333333335],\"type\":\"scatter\"},{\"hovertemplate\":\"\\u003cb\\u003e%{text}\\u003c\\u002fb\\u003e\\u003cbr\\u003eQuantity: %{x}\\u003cbr\\u003eUnit Price: %{y:.2f}\\u003cextra\\u003e\\u003c\\u002fextra\\u003e\",\"marker\":{\"size\":10},\"mode\":\"markers\",\"name\":\"Category: Wagyu Don\",\"showlegend\":false,\"text\":[\"Angus Ox Tongue Don\",\"Foie Gras Premium Wagyu Don\",\"Japanese A5 Wagyu Don\",\"Premium Short Rib Wagyu Don\",\"Signature Wagyu Don\",\"Ultimate Wagyu Don\"],\"x\":[38,6,13,12,321,110],\"y\":[31.86842105263158,61.15,71.32307692307693,47.31666666666666,27.591277258566976,33.72727272727273],\"type\":\"scatter\"},{\"hovertemplate\":\"\\u003cb\\u003e%{text}\\u003c\\u002fb\\u003e\\u003cbr\\u003eQuantity: %{x}\\u003cbr\\u003eUnit Price: %{y:.2f}\\u003cextra\\u003e\\u003c\\u002fextra\\u003e\",\"marker\":{\"size\":10},\"mode\":\"markers\",\"name\":\"Category: Beer\",\"showlegend\":false,\"text\":[\"Asahi Super Dry 330ml\",\"Corona Extra 355ml\",\"Kizakura Yuzu High Ball 330ml\",\"Sapporo 355ml\",\"Somerby Apple Cider 330ml\"],\"x\":[56,13,18,17,5],\"y\":[12.0,12.0,15.0,12.0,12.0],\"type\":\"scatter\"},{\"hovertemplate\":\"\\u003cb\\u003e%{text}\\u003c\\u002fb\\u003e\\u003cbr\\u003eQuantity: %{x}\\u003cbr\\u003eUnit Price: %{y:.2f}\\u003cextra\\u003e\\u003c\\u002fextra\\u003e\",\"marker\":{\"size\":10},\"mode\":\"markers\",\"name\":\"Category: Sushi Platter\",\"showlegend\":false,\"text\":[\"Avo Sushi\",\"Hamachi King Fish Sushi\",\"Maguro Tuna Sushi\",\"Ora King Salmon & Hokkaido Scallop Sushi\",\"Ora King Salmon & Maguro Tuna Sushi\",\"Ora King Salmon Sushi\",\"Premium Sushi Platter\",\"Signature Sushi Platter\",\"Sudoku Platter\"],\"x\":[6,8,5,56,41,29,82,145,258],\"y\":[11.9,19.15,23.7,22.167857142857144,23.509756097560974,21.93448275862069,32.900000000000006,25.59655172413793,39.900000000000006],\"type\":\"scatter\"},{\"hovertemplate\":\"\\u003cb\\u003e%{text}\\u003c\\u002fb\\u003e\\u003cbr\\u003eQuantity: %{x}\\u003cbr\\u003eUnit Price: %{y:.2f}\\u003cextra\\u003e\\u003c\\u002fextra\\u003e\",\"marker\":{\"size\":10},\"mode\":\"markers\",\"name\":\"Category: OMI Coffee\",\"showlegend\":false,\"text\":[\"Babycino\",\"Cappucino\",\"Cold Brew\",\"Espresso\",\"Extra Shot\",\"Flat White\",\"Hot Chocolate\",\"Hot Latte\",\"Hot Long Black \",\"Iced Caramel Latte\",\"Iced Chocolate\",\"Iced Latte\",\"Iced Long Black\",\"Iced Mocha\",\"Macchiato\",\"Magic\",\"Midnight Citrus\",\"Misty Forest\",\"Mocha\",\"Piccolo\",\"Pink Fuji\"],\"x\":[1,19,5,5,1,35,10,44,15,7,13,30,17,11,3,7,18,11,6,4,31],\"y\":[2.0,6.121052631578947,6.5,4.5,1.0,5.985714285714286,6.75,6.281818181818181,5.033333333333333,8.128571428571428,8.2,7.696666666666667,7.311764705882353,8.227272727272727,4.5,5.7,9.899999999999999,9.9,6.183333333333334,6.025,8.899999999999999],\"type\":\"scatter\"},{\"hovertemplate\":\"\\u003cb\\u003e%{text}\\u003c\\u002fb\\u003e\\u003cbr\\u003eQuantity: %{x}\\u003cbr\\u003eUnit Price: %{y:.2f}\\u003cextra\\u003e\\u003c\\u002fextra\\u003e\",\"marker\":{\"size\":10},\"mode\":\"markers\",\"name\":\"Category: Black Sesame\",\"showlegend\":false,\"text\":[\"Black Sesame Latte\",\"Dirty Black Sesame Latte\",\"Iced Black Sesame Latte w Ice cream\",\"Marshmallow Black Sesame Latte\",\"Shiratama Black Sesame Latte\"],\"x\":[62,16,12,13,9],\"y\":[7.312903225806451,8.8,12.191666666666668,8.061538461538461,9.38888888888889],\"type\":\"scatter\"},{\"hovertemplate\":\"\\u003cb\\u003e%{text}\\u003c\\u002fb\\u003e\\u003cbr\\u003eQuantity: %{x}\\u003cbr\\u003eUnit Price: %{y:.2f}\\u003cextra\\u003e\\u003c\\u002fextra\\u003e\",\"marker\":{\"size\":10},\"mode\":\"markers\",\"name\":\"Category: Croissant\",\"showlegend\":false,\"text\":[\"Black Truffle Croissant\",\"Hazelnut Chocolate Crossaint\",\"Hokkaido Milk Tea Croissant\",\"Kyoto Matcha Croissant\",\"Original Croissant\"],\"x\":[68,80,77,71,33],\"y\":[6.8999999999999995,6.9,6.5,6.8999999999999995,5.5],\"type\":\"scatter\"},{\"hovertemplate\":\"\\u003cb\\u003e%{text}\\u003c\\u002fb\\u003e\\u003cbr\\u003eQuantity: %{x}\\u003cbr\\u003eUnit Price: %{y:.2f}\\u003cextra\\u003e\\u003c\\u002fextra\\u003e\",\"marker\":{\"size\":10},\"mode\":\"markers\",\"name\":\"Category: Ramen\",\"showlegend\":false,\"text\":[\"Black Truffle Wagyu Ramen\",\"Double Black Pork Belly Ramen\",\"Spicy Tonkutsu Pork Belly Ramen\",\"Tonkutsu Pork Belly Ramen\"],\"x\":[171,212,151,156],\"y\":[32.9,26.900000000000002,23.900000000000002,22.900000000000002],\"type\":\"scatter\"},{\"hovertemplate\":\"\\u003cb\\u003e%{text}\\u003c\\u002fb\\u003e\\u003cbr\\u003eQuantity: %{x}\\u003cbr\\u003eUnit Price: %{y:.2f}\\u003cextra\\u003e\\u003c\\u002fextra\\u003e\",\"marker\":{\"size\":10},\"mode\":\"markers\",\"name\":\"Category: Other Bread\",\"showlegend\":false,\"text\":[\"Canelé\",\"Cheese Kogashi Toast\",\"Hokkaido Milk Bun\",\"Houjicha x Matcha Financier\",\"Kyoto Matcha Toast\",\"Mini Black Garlic\",\"Mini Black Truffle\",\"Mini Honey Toast\",\"Mini Matcha Honey Toast\",\"Mini Red Bean Mochi \",\"Original x Houjicha Financier\",\"Original x Matcha Financier\",\"Shokupan Petite\",\"Yuzu Mikan\"],\"x\":[257,17,2,52,2,216,216,141,49,236,77,62,36,166],\"y\":[4.5,4.8999999999999995,5.9,2.5,4.5,3.5,3.5,2.5,2.9,3.9,2.5,2.5,6.9,3.9],\"type\":\"scatter\"},{\"hovertemplate\":\"\\u003cb\\u003e%{text}\\u003c\\u002fb\\u003e\\u003cbr\\u003eQuantity: %{x}\\u003cbr\\u003eUnit Price: %{y:.2f}\\u003cextra\\u003e\\u003c\\u002fextra\\u003e\",\"marker\":{\"size\":10},\"mode\":\"markers\",\"name\":\"Category: Yuzu \\u002f Soft Drink\",\"showlegend\":false,\"text\":[\"Coca Cola - Classic\",\"Coca Cola - No sugar\",\"Hot Yuzu Tea\",\"Iced Yuzu Blackcurrant\",\"Iced Yuzu Tea\",\"Mount Franklin Still Bottle\",\"Sprite \",\"Yuzu Blackcurrant Fizz\",\"Yuzu Fizz\",\"Yuzu Ichigo\"],\"x\":[46,61,61,3,93,17,20,111,97,38],\"y\":[4.5,4.5,3.9,6.8999999999999995,4.933333333333334,4.5,4.5,8.5,7.8999999999999995,7.8999999999999995],\"type\":\"scatter\"},{\"hovertemplate\":\"\\u003cb\\u003e%{text}\\u003c\\u002fb\\u003e\\u003cbr\\u003eQuantity: %{x}\\u003cbr\\u003eUnit Price: %{y:.2f}\\u003cextra\\u003e\\u003c\\u002fextra\\u003e\",\"marker\":{\"size\":10},\"mode\":\"markers\",\"name\":\"Category: Houjicha\",\"showlegend\":false,\"text\":[\"Dirty Houjicha Latte\",\"Houjicha Latte\",\"Iced Houjicha Latte w Houjicha\\u002f Vanila ice cream\",\"Marshmallow Houjicha Latte\",\"Shiratama Houjicha Latte\"],\"x\":[14,89,14,25,23],\"y\":[8.885714285714286,7.4348314606741575,12.0,8.04,9.326086956521738],\"type\":\"scatter\"},{\"hovertemplate\":\"\\u003cb\\u003e%{text}\\u003c\\u002fb\\u003e\\u003cbr\\u003eQuantity: %{x}\\u003cbr\\u003eUnit Price: %{y:.2f}\\u003cextra\\u003e\\u003c\\u002fextra\\u003e\",\"marker\":{\"size\":10},\"mode\":\"markers\",\"name\":\"Category: Matcha\",\"showlegend\":false,\"text\":[\"Dirty Matcha Latte\",\"Iced Matcha Latte w Matcha\\u002f Vanila ice cream\",\"Iced Strawberry Matcha Latte\",\"Marshmallow Matcha Latte\",\"Matcha Coconut Cold Brew\",\"Matcha Latte Z1\",\"Matcha Latte Z2\",\"Matcha Latte Z3\",\"Shiratama Matcha Latte\",\"Straight Matcha Z1\",\"Straight Matcha Z2\",\"Straight Matcha Z3\",\"Uji Matcha Day Dream\"],\"x\":[61,65,272,75,23,97,264,410,250,14,37,53,106],\"y\":[9.79016393442623,13.032307692307693,11.106250000000001,8.930666666666665,9.9,7.703092783505155,8.68030303030303,9.89390243902439,10.6972,7.0,8.164864864864866,8.971698113207546,8.9],\"type\":\"scatter\"},{\"hovertemplate\":\"\\u003cb\\u003e%{text}\\u003c\\u002fb\\u003e\\u003cbr\\u003eQuantity: %{x}\\u003cbr\\u003eUnit Price: %{y:.2f}\\u003cextra\\u003e\\u003c\\u002fextra\\u003e\",\"marker\":{\"size\":10},\"mode\":\"markers\",\"name\":\"Category: Gelato\",\"showlegend\":false,\"text\":[\"Double Scoop\",\"Single Scoop\",\"Single Scoop - Google Redemption\",\"Take Home Pack 1L\",\"Take home pack 0.5L\"],\"x\":[96,359,116,1,9],\"y\":[8.9,6.8999999999999995,0.0,32.0,19.0],\"type\":\"scatter\"},{\"hovertemplate\":\"\\u003cb\\u003e%{text}\\u003c\\u002fb\\u003e\\u003cbr\\u003eQuantity: %{x}\\u003cbr\\u003eUnit Price: %{y:.2f}\\u003cextra\\u003e\\u003c\\u002fextra\\u003e\",\"marker\":{\"size\":10},\"mode\":\"markers\",\"name\":\"Category: Marketing Promotion\",\"showlegend\":false,\"text\":[\"Free Gelato - Google\",\"Washoku Canvas Bag Redemption\"],\"x\":[123,7],\"y\":[0.0,0.0],\"type\":\"scatter\"},{\"hovertemplate\":\"\\u003cb\\u003e%{text}\\u003c\\u002fb\\u003e\\u003cbr\\u003eQuantity: %{x}\\u003cbr\\u003eUnit Price: %{y:.2f}\\u003cextra\\u003e\\u003c\\u002fextra\\u003e\",\"marker\":{\"size\":10},\"mode\":\"markers\",\"name\":\"Category: Soju\",\"showlegend\":false,\"text\":[\"Gooday Original\"],\"x\":[16],\"y\":[12.0],\"type\":\"scatter\"},{\"hovertemplate\":\"\\u003cb\\u003e%{text}\\u003c\\u002fb\\u003e\\u003cbr\\u003eQuantity: %{x}\\u003cbr\\u003eUnit Price: %{y:.2f}\\u003cextra\\u003e\\u003c\\u002fextra\\u003e\",\"marker\":{\"size\":10},\"mode\":\"markers\",\"name\":\"Category: Kushiyaki\",\"showlegend\":false,\"text\":[\"Grilled Chicken Thigh\",\"Grilled Chicken Wingette\",\"Grilled Corn\",\"Grilled Eggplant\",\"Grilled Hokkaido Scallop\",\"Grilled Japanese A5 Wagyu\",\"Grilled King Mushroom\",\"Grilled Okra\",\"Grilled Ora King Salmon\",\"Grilled Ox Tongue\",\"Grilled Pork Belly\",\"Grilled Shiitake\",\"Grilled Short Rib Wagyu\",\"Grilled Signature Wagyu\"],\"x\":[221,78,64,59,141,15,69,108,35,81,149,54,19,152],\"y\":[5.9,5.8999999999999995,3.9,3.9,12.9,35.9,4.9,3.9,15.9,14.9,7.8999999999999995,4.9,24.900000000000002,13.9],\"type\":\"scatter\"},{\"hovertemplate\":\"\\u003cb\\u003e%{text}\\u003c\\u002fb\\u003e\\u003cbr\\u003eQuantity: %{x}\\u003cbr\\u003eUnit Price: %{y:.2f}\\u003cextra\\u003e\\u003c\\u002fextra\\u003e\",\"marker\":{\"size\":10},\"mode\":\"markers\",\"name\":\"Category: Sashimi Chazuke\",\"showlegend\":false,\"text\":[\"Grilled Unagi Chazuke\",\"Ora King Salmon Chazuke\",\"Premium Sashimi Chazuke\",\"Signature Chirashi Chazuke\",\"Signature Sashimi Chazuke\"],\"x\":[80,48,96,125,92],\"y\":[32.9,34.9,39.9,36.9,37.9],\"type\":\"scatter\"},{\"hovertemplate\":\"\\u003cb\\u003e%{text}\\u003c\\u002fb\\u003e\\u003cbr\\u003eQuantity: %{x}\\u003cbr\\u003eUnit Price: %{y:.2f}\\u003cextra\\u003e\\u003c\\u002fextra\\u003e\",\"marker\":{\"size\":10},\"mode\":\"markers\",\"name\":\"Category: Sake\",\"showlegend\":false,\"text\":[\"HAKUTSURU Puru Puru Momo (Peach)\",\"Junmai Daiginjo Cherry Sake 300ml\",\"Sake 1 -Junmai Dry\",\"Sake 2 - HAKUTSURU Sayuri Nigori \",\"Sake 3 - Yuzushu\",\"Sake Tasting Set\"],\"x\":[1,1,5,11,16,50],\"y\":[10.9,48.0,61.0,45.45454545454545,37.8125,22.0],\"type\":\"scatter\"},{\"hovertemplate\":\"\\u003cb\\u003e%{text}\\u003c\\u002fb\\u003e\\u003cbr\\u003eQuantity: %{x}\\u003cbr\\u003eUnit Price: %{y:.2f}\\u003cextra\\u003e\\u003c\\u002fextra\\u003e\",\"marker\":{\"size\":10},\"mode\":\"markers\",\"name\":\"Category: Manjū\",\"showlegend\":false,\"text\":[\"Hokkaido Manjū\",\"Hōjicha Manjū\",\"Matcha Manjū\",\"Murasaki Manjū (Purple Potato)\"],\"x\":[150,145,74,141],\"y\":[3.5,3.9,3.9000000000000004,3.9],\"type\":\"scatter\"},{\"hovertemplate\":\"\\u003cb\\u003e%{text}\\u003c\\u002fb\\u003e\\u003cbr\\u003eQuantity: %{x}\\u003cbr\\u003eUnit Price: %{y:.2f}\\u003cextra\\u003e\\u003c\\u002fextra\\u003e\",\"marker\":{\"size\":10},\"mode\":\"markers\",\"name\":\"Category: Variants\",\"showlegend\":false,\"text\":[\"Kaiten Open Item\",\"Kitchen Open Item\",\"Matcha Bar Open Item\"],\"x\":[4,21,2],\"y\":[17.2,4.371428571428571,2.0],\"type\":\"scatter\"},{\"hovertemplate\":\"\\u003cb\\u003e%{text}\\u003c\\u002fb\\u003e\\u003cbr\\u003eQuantity: %{x}\\u003cbr\\u003eUnit Price: %{y:.2f}\\u003cextra\\u003e\\u003c\\u002fextra\\u003e\",\"marker\":{\"size\":10},\"mode\":\"markers\",\"name\":\"Category: Wine\",\"showlegend\":false,\"text\":[\"Kim Crawford Pinot Gris\",\"Little Yering Chardonnay\",\"Little Yering Pinot Noir\",\"Oyster bay Sauvignon Blanc\",\"Penfolds Koonunga Hill Cabernet Sauvignon\",\"Penfolds Koonunga Hill Shiraz Cabernet\"],\"x\":[1,9,13,12,4,5],\"y\":[33.0,16.666666666666668,12.0,19.0,12.0,20.4],\"type\":\"scatter\"},{\"hovertemplate\":\"\\u003cb\\u003e%{text}\\u003c\\u002fb\\u003e\\u003cbr\\u003eQuantity: %{x}\\u003cbr\\u003eUnit Price: %{y:.2f}\\u003cextra\\u003e\\u003c\\u002fextra\\u003e\",\"marker\":{\"size\":10},\"mode\":\"markers\",\"name\":\"Category: Cocktail\",\"showlegend\":false,\"text\":[\"Lychee Sake Martini\",\"Roku Gin - Yuzu Blackcurrant Sparkling\",\"Roku Gin - Yuzu Sparkling\",\"Sake Cosmo\",\"Sake Mojito\",\"Tokyo Slipper\"],\"x\":[9,3,10,2,6,3],\"y\":[18.0,17.0,17.0,18.0,18.0,18.0],\"type\":\"scatter\"},{\"hovertemplate\":\"\\u003cb\\u003e%{text}\\u003c\\u002fb\\u003e\\u003cbr\\u003eQuantity: %{x}\\u003cbr\\u003eUnit Price: %{y:.2f}\\u003cextra\\u003e\\u003c\\u002fextra\\u003e\",\"marker\":{\"size\":10},\"mode\":\"markers\",\"name\":\"Category: Sashimi & Tataki\",\"showlegend\":false,\"text\":[\"Maguro Tuna Sashimi\\u002fTataki\",\"Ora King Salmon Sashimi\\u002fTataki\",\"Premium Sashimi Platter\",\"Soy Marinated Ora King Salmon Sashimi\",\"Wagyu Beef Tataki\"],\"x\":[10,54,117,3,38],\"y\":[20.9,19.9,49.47350427350427,19.900000000000002,18.900000000000002],\"type\":\"scatter\"},{\"hovertemplate\":\"\\u003cb\\u003e%{text}\\u003c\\u002fb\\u003e\\u003cbr\\u003eQuantity: %{x}\\u003cbr\\u003eUnit Price: %{y:.2f}\\u003cextra\\u003e\\u003c\\u002fextra\\u003e\",\"marker\":{\"size\":10},\"mode\":\"markers\",\"name\":\"Category: Anpan\",\"showlegend\":false,\"text\":[\"Mini Black Sesame Anpan\",\"Mini Hokkaido Anpan\",\"Mini Hōjicha Anpan\",\"Mini Matcha Anpan\"],\"x\":[192,264,208,214],\"y\":[2.9,2.5,2.9000000000000004,2.9],\"type\":\"scatter\"},{\"hovertemplate\":\"\\u003cb\\u003e%{text}\\u003c\\u002fb\\u003e\\u003cbr\\u003eQuantity: %{x}\\u003cbr\\u003eUnit Price: %{y:.2f}\\u003cextra\\u003e\\u003c\\u002fextra\\u003e\",\"marker\":{\"size\":10},\"mode\":\"markers\",\"name\":\"Category: Melon\",\"showlegend\":false,\"text\":[\"Mini Hokkaido Melon Pan\",\"Mini Hōjicha Melon Pan\",\"Mini Matcha Melon Pan\"],\"x\":[220,157,136],\"y\":[3.2,3.5,3.5],\"type\":\"scatter\"},{\"hovertemplate\":\"\\u003cb\\u003e%{text}\\u003c\\u002fb\\u003e\\u003cbr\\u003eQuantity: %{x}\\u003cbr\\u003eUnit Price: %{y:.2f}\\u003cextra\\u003e\\u003c\\u002fextra\\u003e\",\"marker\":{\"size\":10},\"mode\":\"markers\",\"name\":\"Category: Shio\",\"showlegend\":false,\"text\":[\"Mini Hokkaido Shio Pan\",\"Mini Hōjicha Shio Pan\",\"Mini Matcha Shio Pan\",\"Mini Sweet Potato Shio Pan\"],\"x\":[252,207,89,209],\"y\":[3.1999999999999997,3.5,3.5,3.5],\"type\":\"scatter\"},{\"hovertemplate\":\"\\u003cb\\u003e%{text}\\u003c\\u002fb\\u003e\\u003cbr\\u003eQuantity: %{x}\\u003cbr\\u003eUnit Price: %{y:.2f}\\u003cextra\\u003e\\u003c\\u002fextra\\u003e\",\"marker\":{\"size\":10},\"mode\":\"markers\",\"name\":\"Category: Japanese Tea\",\"showlegend\":false,\"text\":[\"Sencha\"],\"x\":[13],\"y\":[8.9],\"type\":\"scatter\"}],                        {\"template\":{\"data\":{\"histogram2dcontour\":[{\"type\":\"histogram2dcontour\",\"colorbar\":{\"outlinewidth\":0,\"ticks\":\"\"},\"colorscale\":[[0.0,\"#0d0887\"],[0.1111111111111111,\"#46039f\"],[0.2222222222222222,\"#7201a8\"],[0.3333333333333333,\"#9c179e\"],[0.4444444444444444,\"#bd3786\"],[0.5555555555555556,\"#d8576b\"],[0.6666666666666666,\"#ed7953\"],[0.7777777777777778,\"#fb9f3a\"],[0.8888888888888888,\"#fdca26\"],[1.0,\"#f0f921\"]]}],\"choropleth\":[{\"type\":\"choropleth\",\"colorbar\":{\"outlinewidth\":0,\"ticks\":\"\"}}],\"histogram2d\":[{\"type\":\"histogram2d\",\"colorbar\":{\"outlinewidth\":0,\"ticks\":\"\"},\"colorscale\":[[0.0,\"#0d0887\"],[0.1111111111111111,\"#46039f\"],[0.2222222222222222,\"#7201a8\"],[0.3333333333333333,\"#9c179e\"],[0.4444444444444444,\"#bd3786\"],[0.5555555555555556,\"#d8576b\"],[0.6666666666666666,\"#ed7953\"],[0.7777777777777778,\"#fb9f3a\"],[0.8888888888888888,\"#fdca26\"],[1.0,\"#f0f921\"]]}],\"heatmap\":[{\"type\":\"heatmap\",\"colorbar\":{\"outlinewidth\":0,\"ticks\":\"\"},\"colorscale\":[[0.0,\"#0d0887\"],[0.1111111111111111,\"#46039f\"],[0.2222222222222222,\"#7201a8\"],[0.3333333333333333,\"#9c179e\"],[0.4444444444444444,\"#bd3786\"],[0.5555555555555556,\"#d8576b\"],[0.6666666666666666,\"#ed7953\"],[0.7777777777777778,\"#fb9f3a\"],[0.8888888888888888,\"#fdca26\"],[1.0,\"#f0f921\"]]}],\"heatmapgl\":[{\"type\":\"heatmapgl\",\"colorbar\":{\"outlinewidth\":0,\"ticks\":\"\"},\"colorscale\":[[0.0,\"#0d0887\"],[0.1111111111111111,\"#46039f\"],[0.2222222222222222,\"#7201a8\"],[0.3333333333333333,\"#9c179e\"],[0.4444444444444444,\"#bd3786\"],[0.5555555555555556,\"#d8576b\"],[0.6666666666666666,\"#ed7953\"],[0.7777777777777778,\"#fb9f3a\"],[0.8888888888888888,\"#fdca26\"],[1.0,\"#f0f921\"]]}],\"contourcarpet\":[{\"type\":\"contourcarpet\",\"colorbar\":{\"outlinewidth\":0,\"ticks\":\"\"}}],\"contour\":[{\"type\":\"contour\",\"colorbar\":{\"outlinewidth\":0,\"ticks\":\"\"},\"colorscale\":[[0.0,\"#0d0887\"],[0.1111111111111111,\"#46039f\"],[0.2222222222222222,\"#7201a8\"],[0.3333333333333333,\"#9c179e\"],[0.4444444444444444,\"#bd3786\"],[0.5555555555555556,\"#d8576b\"],[0.6666666666666666,\"#ed7953\"],[0.7777777777777778,\"#fb9f3a\"],[0.8888888888888888,\"#fdca26\"],[1.0,\"#f0f921\"]]}],\"surface\":[{\"type\":\"surface\",\"colorbar\":{\"outlinewidth\":0,\"ticks\":\"\"},\"colorscale\":[[0.0,\"#0d0887\"],[0.1111111111111111,\"#46039f\"],[0.2222222222222222,\"#7201a8\"],[0.3333333333333333,\"#9c179e\"],[0.4444444444444444,\"#bd3786\"],[0.5555555555555556,\"#d8576b\"],[0.6666666666666666,\"#ed7953\"],[0.7777777777777778,\"#fb9f3a\"],[0.8888888888888888,\"#fdca26\"],[1.0,\"#f0f921\"]]}],\"mesh3d\":[{\"type\":\"mesh3d\",\"colorbar\":{\"outlinewidth\":0,\"ticks\":\"\"}}],\"scatter\":[{\"fillpattern\":{\"fillmode\":\"overlay\",\"size\":10,\"solidity\":0.2},\"type\":\"scatter\"}],\"parcoords\":[{\"type\":\"parcoords\",\"line\":{\"colorbar\":{\"outlinewidth\":0,\"ticks\":\"\"}}}],\"scatterpolargl\":[{\"type\":\"scatterpolargl\",\"marker\":{\"colorbar\":{\"outlinewidth\":0,\"ticks\":\"\"}}}],\"bar\":[{\"error_x\":{\"color\":\"#2a3f5f\"},\"error_y\":{\"color\":\"#2a3f5f\"},\"marker\":{\"line\":{\"color\":\"#E5ECF6\",\"width\":0.5},\"pattern\":{\"fillmode\":\"overlay\",\"size\":10,\"solidity\":0.2}},\"type\":\"bar\"}],\"scattergeo\":[{\"type\":\"scattergeo\",\"marker\":{\"colorbar\":{\"outlinewidth\":0,\"ticks\":\"\"}}}],\"scatterpolar\":[{\"type\":\"scatterpolar\",\"marker\":{\"colorbar\":{\"outlinewidth\":0,\"ticks\":\"\"}}}],\"histogram\":[{\"marker\":{\"pattern\":{\"fillmode\":\"overlay\",\"size\":10,\"solidity\":0.2}},\"type\":\"histogram\"}],\"scattergl\":[{\"type\":\"scattergl\",\"marker\":{\"colorbar\":{\"outlinewidth\":0,\"ticks\":\"\"}}}],\"scatter3d\":[{\"type\":\"scatter3d\",\"line\":{\"colorbar\":{\"outlinewidth\":0,\"ticks\":\"\"}},\"marker\":{\"colorbar\":{\"outlinewidth\":0,\"ticks\":\"\"}}}],\"scattermapbox\":[{\"type\":\"scattermapbox\",\"marker\":{\"colorbar\":{\"outlinewidth\":0,\"ticks\":\"\"}}}],\"scatterternary\":[{\"type\":\"scatterternary\",\"marker\":{\"colorbar\":{\"outlinewidth\":0,\"ticks\":\"\"}}}],\"scattercarpet\":[{\"type\":\"scattercarpet\",\"marker\":{\"colorbar\":{\"outlinewidth\":0,\"ticks\":\"\"}}}],\"carpet\":[{\"aaxis\":{\"endlinecolor\":\"#2a3f5f\",\"gridcolor\":\"white\",\"linecolor\":\"white\",\"minorgridcolor\":\"white\",\"startlinecolor\":\"#2a3f5f\"},\"baxis\":{\"endlinecolor\":\"#2a3f5f\",\"gridcolor\":\"white\",\"linecolor\":\"white\",\"minorgridcolor\":\"white\",\"startlinecolor\":\"#2a3f5f\"},\"type\":\"carpet\"}],\"table\":[{\"cells\":{\"fill\":{\"color\":\"#EBF0F8\"},\"line\":{\"color\":\"white\"}},\"header\":{\"fill\":{\"color\":\"#C8D4E3\"},\"line\":{\"color\":\"white\"}},\"type\":\"table\"}],\"barpolar\":[{\"marker\":{\"line\":{\"color\":\"#E5ECF6\",\"width\":0.5},\"pattern\":{\"fillmode\":\"overlay\",\"size\":10,\"solidity\":0.2}},\"type\":\"barpolar\"}],\"pie\":[{\"automargin\":true,\"type\":\"pie\"}]},\"layout\":{\"autotypenumbers\":\"strict\",\"colorway\":[\"#636efa\",\"#EF553B\",\"#00cc96\",\"#ab63fa\",\"#FFA15A\",\"#19d3f3\",\"#FF6692\",\"#B6E880\",\"#FF97FF\",\"#FECB52\"],\"font\":{\"color\":\"#2a3f5f\"},\"hovermode\":\"closest\",\"hoverlabel\":{\"align\":\"left\"},\"paper_bgcolor\":\"white\",\"plot_bgcolor\":\"#E5ECF6\",\"polar\":{\"bgcolor\":\"#E5ECF6\",\"angularaxis\":{\"gridcolor\":\"white\",\"linecolor\":\"white\",\"ticks\":\"\"},\"radialaxis\":{\"gridcolor\":\"white\",\"linecolor\":\"white\",\"ticks\":\"\"}},\"ternary\":{\"bgcolor\":\"#E5ECF6\",\"aaxis\":{\"gridcolor\":\"white\",\"linecolor\":\"white\",\"ticks\":\"\"},\"baxis\":{\"gridcolor\":\"white\",\"linecolor\":\"white\",\"ticks\":\"\"},\"caxis\":{\"gridcolor\":\"white\",\"linecolor\":\"white\",\"ticks\":\"\"}},\"coloraxis\":{\"colorbar\":{\"outlinewidth\":0,\"ticks\":\"\"}},\"colorscale\":{\"sequential\":[[0.0,\"#0d0887\"],[0.1111111111111111,\"#46039f\"],[0.2222222222222222,\"#7201a8\"],[0.3333333333333333,\"#9c179e\"],[0.4444444444444444,\"#bd3786\"],[0.5555555555555556,\"#d8576b\"],[0.6666666666666666,\"#ed7953\"],[0.7777777777777778,\"#fb9f3a\"],[0.8888888888888888,\"#fdca26\"],[1.0,\"#f0f921\"]],\"sequentialminus\":[[0.0,\"#0d0887\"],[0.1111111111111111,\"#46039f\"],[0.2222222222222222,\"#7201a8\"],[0.3333333333333333,\"#9c179e\"],[0.4444444444444444,\"#bd3786\"],[0.5555555555555556,\"#d8576b\"],[0.6666666666666666,\"#ed7953\"],[0.7777777777777778,\"#fb9f3a\"],[0.8888888888888888,\"#fdca26\"],[1.0,\"#f0f921\"]],\"diverging\":[[0,\"#8e0152\"],[0.1,\"#c51b7d\"],[0.2,\"#de77ae\"],[0.3,\"#f1b6da\"],[0.4,\"#fde0ef\"],[0.5,\"#f7f7f7\"],[0.6,\"#e6f5d0\"],[0.7,\"#b8e186\"],[0.8,\"#7fbc41\"],[0.9,\"#4d9221\"],[1,\"#276419\"]]},\"xaxis\":{\"gridcolor\":\"white\",\"linecolor\":\"white\",\"ticks\":\"\",\"title\":{\"standoff\":15},\"zerolinecolor\":\"white\",\"automargin\":true,\"zerolinewidth\":2},\"yaxis\":{\"gridcolor\":\"white\",\"linecolor\":\"white\",\"ticks\":\"\",\"title\":{\"standoff\":15},\"zerolinecolor\":\"white\",\"automargin\":true,\"zerolinewidth\":2},\"scene\":{\"xaxis\":{\"backgroundcolor\":\"#E5ECF6\",\"gridcolor\":\"white\",\"linecolor\":\"white\",\"showbackground\":true,\"ticks\":\"\",\"zerolinecolor\":\"white\",\"gridwidth\":2},\"yaxis\":{\"backgroundcolor\":\"#E5ECF6\",\"gridcolor\":\"white\",\"linecolor\":\"white\",\"showbackground\":true,\"ticks\":\"\",\"zerolinecolor\":\"white\",\"gridwidth\":2},\"zaxis\":{\"backgroundcolor\":\"#E5ECF6\",\"gridcolor\":\"white\",\"linecolor\":\"white\",\"showbackground\":true,\"ticks\":\"\",\"zerolinecolor\":\"white\",\"gridwidth\":2}},\"shapedefaults\":{\"line\":{\"color\":\"#2a3f5f\"}},\"annotationdefaults\":{\"arrowcolor\":\"#2a3f5f\",\"arrowhead\":0,\"arrowwidth\":1},\"geo\":{\"bgcolor\":\"white\",\"landcolor\":\"#E5ECF6\",\"subunitcolor\":\"white\",\"showland\":true,\"showlakes\":true,\"lakecolor\":\"white\"},\"title\":{\"x\":0.05},\"mapbox\":{\"style\":\"light\"}}},\"shapes\":[{\"line\":{\"color\":\"gray\",\"dash\":\"dash\"},\"type\":\"line\",\"x0\":33.0,\"x1\":33.0,\"xref\":\"x\",\"y0\":0,\"y1\":1,\"yref\":\"y domain\"},{\"line\":{\"color\":\"gray\",\"dash\":\"dash\"},\"type\":\"line\",\"x0\":0,\"x1\":1,\"xref\":\"x domain\",\"y0\":9.967307692307692,\"y1\":9.967307692307692,\"yref\":\"y\"}],\"title\":{\"text\":\"Profitability Buckets: Sales Volume vs Unit Price\"},\"xaxis\":{\"title\":{\"text\":\"Total Quantity Sold\"}},\"yaxis\":{\"title\":{\"text\":\"Unit Price (RM)\"}},\"height\":650,\"updatemenus\":[{\"buttons\":[{\"args\":[{\"visible\":[true,false,false,false,false,false,false,false,false,false,false,false,false,false,false,false,false,false,false,false,false,false,false,false,false,false,false,false,false,false,false,false,false,false,false,false,false,false]}],\"label\":\"All Products\",\"method\":\"update\"},{\"args\":[{\"visible\":[false,true,false,false,false,false,false,false,false,false,false,false,false,false,false,false,false,false,false,false,false,false,false,false,false,false,false,false,false,false,false,false,false,false,false,false,false,false]}],\"label\":\"Top 10 by Sales\",\"method\":\"update\"},{\"args\":[{\"visible\":[false,false,true,false,false,false,false,false,false,false,false,false,false,false,false,false,false,false,false,false,false,false,false,false,false,false,false,false,false,false,false,false,false,false,false,false,false,false]}],\"label\":\"Top 20 by Sales\",\"method\":\"update\"},{\"args\":[{\"visible\":[false,false,false,true,false,false,false,false,false,false,false,false,false,false,false,false,false,false,false,false,false,false,false,false,false,false,false,false,false,false,false,false,false,false,false,false,false,false]}],\"label\":\"Category: OMI Don\",\"method\":\"update\"},{\"args\":[{\"visible\":[false,false,false,false,true,false,false,false,false,false,false,false,false,false,false,false,false,false,false,false,false,false,false,false,false,false,false,false,false,false,false,false,false,false,false,false,false,false]}],\"label\":\"Category: Merchants\",\"method\":\"update\"},{\"args\":[{\"visible\":[false,false,false,false,false,true,false,false,false,false,false,false,false,false,false,false,false,false,false,false,false,false,false,false,false,false,false,false,false,false,false,false,false,false,false,false,false,false]}],\"label\":\"Category: Dessert\",\"method\":\"update\"},{\"args\":[{\"visible\":[false,false,false,false,false,false,true,false,false,false,false,false,false,false,false,false,false,false,false,false,false,false,false,false,false,false,false,false,false,false,false,false,false,false,false,false,false,false]}],\"label\":\"Category: Sushi Taco\",\"method\":\"update\"},{\"args\":[{\"visible\":[false,false,false,false,false,false,false,true,false,false,false,false,false,false,false,false,false,false,false,false,false,false,false,false,false,false,false,false,false,false,false,false,false,false,false,false,false,false]}],\"label\":\"Category: No Pork No Lard\",\"method\":\"update\"},{\"args\":[{\"visible\":[false,false,false,false,false,false,false,false,true,false,false,false,false,false,false,false,false,false,false,false,false,false,false,false,false,false,false,false,false,false,false,false,false,false,false,false,false,false]}],\"label\":\"Category: Premium Set Meal\",\"method\":\"update\"},{\"args\":[{\"visible\":[false,false,false,false,false,false,false,false,false,true,false,false,false,false,false,false,false,false,false,false,false,false,false,false,false,false,false,false,false,false,false,false,false,false,false,false,false,false]}],\"label\":\"Category: Japanese Hotpot\",\"method\":\"update\"},{\"args\":[{\"visible\":[false,false,false,false,false,false,false,false,false,false,true,false,false,false,false,false,false,false,false,false,false,false,false,false,false,false,false,false,false,false,false,false,false,false,false,false,false,false]}],\"label\":\"Category: Fried Appetizer\",\"method\":\"update\"},{\"args\":[{\"visible\":[false,false,false,false,false,false,false,false,false,false,false,true,false,false,false,false,false,false,false,false,false,false,false,false,false,false,false,false,false,false,false,false,false,false,false,false,false,false]}],\"label\":\"Category: Grilled Appetizer\",\"method\":\"update\"},{\"args\":[{\"visible\":[false,false,false,false,false,false,false,false,false,false,false,false,true,false,false,false,false,false,false,false,false,false,false,false,false,false,false,false,false,false,false,false,false,false,false,false,false,false]}],\"label\":\"Category: Wagyu Don\",\"method\":\"update\"},{\"args\":[{\"visible\":[false,false,false,false,false,false,false,false,false,false,false,false,false,true,false,false,false,false,false,false,false,false,false,false,false,false,false,false,false,false,false,false,false,false,false,false,false,false]}],\"label\":\"Category: Beer\",\"method\":\"update\"},{\"args\":[{\"visible\":[false,false,false,false,false,false,false,false,false,false,false,false,false,false,true,false,false,false,false,false,false,false,false,false,false,false,false,false,false,false,false,false,false,false,false,false,false,false]}],\"label\":\"Category: Sushi Platter\",\"method\":\"update\"},{\"args\":[{\"visible\":[false,false,false,false,false,false,false,false,false,false,false,false,false,false,false,true,false,false,false,false,false,false,false,false,false,false,false,false,false,false,false,false,false,false,false,false,false,false]}],\"label\":\"Category: OMI Coffee\",\"method\":\"update\"},{\"args\":[{\"visible\":[false,false,false,false,false,false,false,false,false,false,false,false,false,false,false,false,true,false,false,false,false,false,false,false,false,false,false,false,false,false,false,false,false,false,false,false,false,false]}],\"label\":\"Category: Black Sesame\",\"method\":\"update\"},{\"args\":[{\"visible\":[false,false,false,false,false,false,false,false,false,false,false,false,false,false,false,false,false,true,false,false,false,false,false,false,false,false,false,false,false,false,false,false,false,false,false,false,false,false]}],\"label\":\"Category: Croissant\",\"method\":\"update\"},{\"args\":[{\"visible\":[false,false,false,false,false,false,false,false,false,false,false,false,false,false,false,false,false,false,true,false,false,false,false,false,false,false,false,false,false,false,false,false,false,false,false,false,false,false]}],\"label\":\"Category: Ramen\",\"method\":\"update\"},{\"args\":[{\"visible\":[false,false,false,false,false,false,false,false,false,false,false,false,false,false,false,false,false,false,false,true,false,false,false,false,false,false,false,false,false,false,false,false,false,false,false,false,false,false]}],\"label\":\"Category: Other Bread\",\"method\":\"update\"},{\"args\":[{\"visible\":[false,false,false,false,false,false,false,false,false,false,false,false,false,false,false,false,false,false,false,false,true,false,false,false,false,false,false,false,false,false,false,false,false,false,false,false,false,false]}],\"label\":\"Category: Yuzu \\u002f Soft Drink\",\"method\":\"update\"},{\"args\":[{\"visible\":[false,false,false,false,false,false,false,false,false,false,false,false,false,false,false,false,false,false,false,false,false,true,false,false,false,false,false,false,false,false,false,false,false,false,false,false,false,false]}],\"label\":\"Category: Houjicha\",\"method\":\"update\"},{\"args\":[{\"visible\":[false,false,false,false,false,false,false,false,false,false,false,false,false,false,false,false,false,false,false,false,false,false,true,false,false,false,false,false,false,false,false,false,false,false,false,false,false,false]}],\"label\":\"Category: Matcha\",\"method\":\"update\"},{\"args\":[{\"visible\":[false,false,false,false,false,false,false,false,false,false,false,false,false,false,false,false,false,false,false,false,false,false,false,true,false,false,false,false,false,false,false,false,false,false,false,false,false,false]}],\"label\":\"Category: Gelato\",\"method\":\"update\"},{\"args\":[{\"visible\":[false,false,false,false,false,false,false,false,false,false,false,false,false,false,false,false,false,false,false,false,false,false,false,false,true,false,false,false,false,false,false,false,false,false,false,false,false,false]}],\"label\":\"Category: Marketing Promotion\",\"method\":\"update\"},{\"args\":[{\"visible\":[false,false,false,false,false,false,false,false,false,false,false,false,false,false,false,false,false,false,false,false,false,false,false,false,false,true,false,false,false,false,false,false,false,false,false,false,false,false]}],\"label\":\"Category: Soju\",\"method\":\"update\"},{\"args\":[{\"visible\":[false,false,false,false,false,false,false,false,false,false,false,false,false,false,false,false,false,false,false,false,false,false,false,false,false,false,true,false,false,false,false,false,false,false,false,false,false,false]}],\"label\":\"Category: Kushiyaki\",\"method\":\"update\"},{\"args\":[{\"visible\":[false,false,false,false,false,false,false,false,false,false,false,false,false,false,false,false,false,false,false,false,false,false,false,false,false,false,false,true,false,false,false,false,false,false,false,false,false,false]}],\"label\":\"Category: Sashimi Chazuke\",\"method\":\"update\"},{\"args\":[{\"visible\":[false,false,false,false,false,false,false,false,false,false,false,false,false,false,false,false,false,false,false,false,false,false,false,false,false,false,false,false,true,false,false,false,false,false,false,false,false,false]}],\"label\":\"Category: Sake\",\"method\":\"update\"},{\"args\":[{\"visible\":[false,false,false,false,false,false,false,false,false,false,false,false,false,false,false,false,false,false,false,false,false,false,false,false,false,false,false,false,false,true,false,false,false,false,false,false,false,false]}],\"label\":\"Category: Manjū\",\"method\":\"update\"},{\"args\":[{\"visible\":[false,false,false,false,false,false,false,false,false,false,false,false,false,false,false,false,false,false,false,false,false,false,false,false,false,false,false,false,false,false,true,false,false,false,false,false,false,false]}],\"label\":\"Category: Variants\",\"method\":\"update\"},{\"args\":[{\"visible\":[false,false,false,false,false,false,false,false,false,false,false,false,false,false,false,false,false,false,false,false,false,false,false,false,false,false,false,false,false,false,false,true,false,false,false,false,false,false]}],\"label\":\"Category: Wine\",\"method\":\"update\"},{\"args\":[{\"visible\":[false,false,false,false,false,false,false,false,false,false,false,false,false,false,false,false,false,false,false,false,false,false,false,false,false,false,false,false,false,false,false,false,true,false,false,false,false,false]}],\"label\":\"Category: Cocktail\",\"method\":\"update\"},{\"args\":[{\"visible\":[false,false,false,false,false,false,false,false,false,false,false,false,false,false,false,false,false,false,false,false,false,false,false,false,false,false,false,false,false,false,false,false,false,true,false,false,false,false]}],\"label\":\"Category: Sashimi & Tataki\",\"method\":\"update\"},{\"args\":[{\"visible\":[false,false,false,false,false,false,false,false,false,false,false,false,false,false,false,false,false,false,false,false,false,false,false,false,false,false,false,false,false,false,false,false,false,false,true,false,false,false]}],\"label\":\"Category: Anpan\",\"method\":\"update\"},{\"args\":[{\"visible\":[false,false,false,false,false,false,false,false,false,false,false,false,false,false,false,false,false,false,false,false,false,false,false,false,false,false,false,false,false,false,false,false,false,false,false,true,false,false]}],\"label\":\"Category: Melon\",\"method\":\"update\"},{\"args\":[{\"visible\":[false,false,false,false,false,false,false,false,false,false,false,false,false,false,false,false,false,false,false,false,false,false,false,false,false,false,false,false,false,false,false,false,false,false,false,false,true,false]}],\"label\":\"Category: Shio\",\"method\":\"update\"},{\"args\":[{\"visible\":[false,false,false,false,false,false,false,false,false,false,false,false,false,false,false,false,false,false,false,false,false,false,false,false,false,false,false,false,false,false,false,false,false,false,false,false,false,true]}],\"label\":\"Category: Japanese Tea\",\"method\":\"update\"}],\"direction\":\"down\",\"showactive\":true,\"x\":1.0,\"xanchor\":\"right\",\"y\":1.15,\"yanchor\":\"top\"}]},                        {\"responsive\": true}                    ).then(function(){\n",
              "                            \n",
              "var gd = document.getElementById('ba4d435c-1045-4dcf-af83-a28ec46b18e8');\n",
              "var x = new MutationObserver(function (mutations, observer) {{\n",
              "        var display = window.getComputedStyle(gd).display;\n",
              "        if (!display || display === 'none') {{\n",
              "            console.log([gd, 'removed!']);\n",
              "            Plotly.purge(gd);\n",
              "            observer.disconnect();\n",
              "        }}\n",
              "}});\n",
              "\n",
              "// Listen for the removal of the full notebook cells\n",
              "var notebookContainer = gd.closest('#notebook-container');\n",
              "if (notebookContainer) {{\n",
              "    x.observe(notebookContainer, {childList: true});\n",
              "}}\n",
              "\n",
              "// Listen for the clearing of the current output cell\n",
              "var outputEl = gd.closest('.output');\n",
              "if (outputEl) {{\n",
              "    x.observe(outputEl, {childList: true});\n",
              "}}\n",
              "\n",
              "                        })                };                            </script>        </div>\n",
              "</body>\n",
              "</html>"
            ]
          },
          "metadata": {}
        }
      ]
    }
  ]
}